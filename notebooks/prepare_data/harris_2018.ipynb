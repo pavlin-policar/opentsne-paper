{
 "cells": [
  {
   "cell_type": "code",
   "execution_count": 1,
   "metadata": {},
   "outputs": [],
   "source": [
    "from os import path\n",
    "from os import listdir\n",
    "\n",
    "import pandas as pd\n",
    "import scipy.sparse as sp\n",
    "import anndata"
   ]
  },
  {
   "cell_type": "markdown",
   "metadata": {},
   "source": [
    "Download files to `data/harris_2018` folder:\n",
    "\n",
    "Main page:\n",
    "https://www.ncbi.nlm.nih.gov/geo/query/acc.cgi?acc=GSE99888\n",
    "\n",
    "- ftp://ftp.ncbi.nlm.nih.gov/geo/series/GSE99nnn/GSE99888/suppl/GSE99888_gene_expression.tab.gz"
   ]
  },
  {
   "cell_type": "code",
   "execution_count": 2,
   "metadata": {},
   "outputs": [],
   "source": [
    "data_path = path.join(\"..\", \"..\", \"data\", \"harris_2018\")"
   ]
  },
  {
   "cell_type": "code",
   "execution_count": 3,
   "metadata": {},
   "outputs": [
    {
     "data": {
      "text/plain": [
       "['GSE99888_gene_expression.tab.gz']"
      ]
     },
     "execution_count": 3,
     "metadata": {},
     "output_type": "execute_result"
    }
   ],
   "source": [
    "listdir(data_path)"
   ]
  },
  {
   "cell_type": "code",
   "execution_count": 4,
   "metadata": {},
   "outputs": [
    {
     "name": "stdout",
     "output_type": "stream",
     "text": [
      "CPU times: user 25.1 s, sys: 1.7 s, total: 26.8 s\n",
      "Wall time: 26.8 s\n"
     ]
    }
   ],
   "source": [
    "%time data = pd.read_table(path.join(data_path, \"GSE99888_gene_expression.tab.gz\"), index_col=0)"
   ]
  },
  {
   "cell_type": "code",
   "execution_count": 5,
   "metadata": {},
   "outputs": [
    {
     "data": {
      "text/html": [
       "<div>\n",
       "<style scoped>\n",
       "    .dataframe tbody tr th:only-of-type {\n",
       "        vertical-align: middle;\n",
       "    }\n",
       "\n",
       "    .dataframe tbody tr th {\n",
       "        vertical-align: top;\n",
       "    }\n",
       "\n",
       "    .dataframe thead th {\n",
       "        text-align: right;\n",
       "    }\n",
       "</style>\n",
       "<table border=\"1\" class=\"dataframe\">\n",
       "  <thead>\n",
       "    <tr style=\"text-align: right;\">\n",
       "      <th></th>\n",
       "      <th>10X36_1_AAGGCTACTTTCTG</th>\n",
       "      <th>10X36_1_CACCGGGATAAGCC</th>\n",
       "      <th>10X36_1_CAGCCTTGCCCACT</th>\n",
       "      <th>10X36_1_CCTATAACCTACCC</th>\n",
       "      <th>10X36_1_CTTTGATGACACAC</th>\n",
       "      <th>10X36_1_GGATACTGGGTACT</th>\n",
       "      <th>10X36_1_GGATTTCTGACACT</th>\n",
       "      <th>10X36_1_GTAGTGTGACACCA</th>\n",
       "      <th>10X36_1_TGGAAGCTACTAGC</th>\n",
       "      <th>10X36_1_TTCCAAACTACGCA</th>\n",
       "      <th>...</th>\n",
       "      <th>10X38_2_TTCACAACTTGCTT</th>\n",
       "      <th>10X38_2_TTCACCCTCCATGA</th>\n",
       "      <th>10X38_2_TTCATTCTTTTGCT</th>\n",
       "      <th>10X38_2_TTCCTAGATCCAGA</th>\n",
       "      <th>10X38_2_TTCTGATGTGTCTT</th>\n",
       "      <th>10X38_2_TTGACACTGTCAAC</th>\n",
       "      <th>10X38_2_TTGCTATGAGCATC</th>\n",
       "      <th>10X38_2_TTGTAGCTCAAAGA</th>\n",
       "      <th>10X38_2_TTTATCCTTAGACC</th>\n",
       "      <th>10X38_2_TTTGCATGGTACGT</th>\n",
       "    </tr>\n",
       "  </thead>\n",
       "  <tbody>\n",
       "    <tr>\n",
       "      <th>Xkr4</th>\n",
       "      <td>0</td>\n",
       "      <td>0</td>\n",
       "      <td>0</td>\n",
       "      <td>0</td>\n",
       "      <td>0</td>\n",
       "      <td>0</td>\n",
       "      <td>0</td>\n",
       "      <td>0</td>\n",
       "      <td>0</td>\n",
       "      <td>0</td>\n",
       "      <td>...</td>\n",
       "      <td>0</td>\n",
       "      <td>1</td>\n",
       "      <td>0</td>\n",
       "      <td>0</td>\n",
       "      <td>0</td>\n",
       "      <td>0</td>\n",
       "      <td>1</td>\n",
       "      <td>0</td>\n",
       "      <td>0</td>\n",
       "      <td>0</td>\n",
       "    </tr>\n",
       "    <tr>\n",
       "      <th>Gm1992</th>\n",
       "      <td>0</td>\n",
       "      <td>0</td>\n",
       "      <td>0</td>\n",
       "      <td>0</td>\n",
       "      <td>0</td>\n",
       "      <td>0</td>\n",
       "      <td>0</td>\n",
       "      <td>0</td>\n",
       "      <td>0</td>\n",
       "      <td>0</td>\n",
       "      <td>...</td>\n",
       "      <td>0</td>\n",
       "      <td>0</td>\n",
       "      <td>0</td>\n",
       "      <td>0</td>\n",
       "      <td>0</td>\n",
       "      <td>0</td>\n",
       "      <td>0</td>\n",
       "      <td>0</td>\n",
       "      <td>0</td>\n",
       "      <td>0</td>\n",
       "    </tr>\n",
       "    <tr>\n",
       "      <th>Gm37381</th>\n",
       "      <td>0</td>\n",
       "      <td>0</td>\n",
       "      <td>0</td>\n",
       "      <td>0</td>\n",
       "      <td>0</td>\n",
       "      <td>0</td>\n",
       "      <td>0</td>\n",
       "      <td>0</td>\n",
       "      <td>0</td>\n",
       "      <td>0</td>\n",
       "      <td>...</td>\n",
       "      <td>0</td>\n",
       "      <td>0</td>\n",
       "      <td>0</td>\n",
       "      <td>0</td>\n",
       "      <td>0</td>\n",
       "      <td>0</td>\n",
       "      <td>0</td>\n",
       "      <td>0</td>\n",
       "      <td>0</td>\n",
       "      <td>0</td>\n",
       "    </tr>\n",
       "    <tr>\n",
       "      <th>Rp1</th>\n",
       "      <td>0</td>\n",
       "      <td>0</td>\n",
       "      <td>0</td>\n",
       "      <td>0</td>\n",
       "      <td>0</td>\n",
       "      <td>0</td>\n",
       "      <td>0</td>\n",
       "      <td>0</td>\n",
       "      <td>0</td>\n",
       "      <td>0</td>\n",
       "      <td>...</td>\n",
       "      <td>0</td>\n",
       "      <td>0</td>\n",
       "      <td>0</td>\n",
       "      <td>0</td>\n",
       "      <td>0</td>\n",
       "      <td>0</td>\n",
       "      <td>0</td>\n",
       "      <td>0</td>\n",
       "      <td>0</td>\n",
       "      <td>0</td>\n",
       "    </tr>\n",
       "    <tr>\n",
       "      <th>Rp1</th>\n",
       "      <td>0</td>\n",
       "      <td>0</td>\n",
       "      <td>0</td>\n",
       "      <td>0</td>\n",
       "      <td>0</td>\n",
       "      <td>0</td>\n",
       "      <td>0</td>\n",
       "      <td>0</td>\n",
       "      <td>0</td>\n",
       "      <td>0</td>\n",
       "      <td>...</td>\n",
       "      <td>0</td>\n",
       "      <td>0</td>\n",
       "      <td>0</td>\n",
       "      <td>0</td>\n",
       "      <td>0</td>\n",
       "      <td>0</td>\n",
       "      <td>0</td>\n",
       "      <td>0</td>\n",
       "      <td>0</td>\n",
       "      <td>0</td>\n",
       "    </tr>\n",
       "  </tbody>\n",
       "</table>\n",
       "<p>5 rows × 6971 columns</p>\n",
       "</div>"
      ],
      "text/plain": [
       "         10X36_1_AAGGCTACTTTCTG  10X36_1_CACCGGGATAAGCC  \\\n",
       "Xkr4                          0                       0   \n",
       "Gm1992                        0                       0   \n",
       "Gm37381                       0                       0   \n",
       "Rp1                           0                       0   \n",
       "Rp1                           0                       0   \n",
       "\n",
       "         10X36_1_CAGCCTTGCCCACT  10X36_1_CCTATAACCTACCC  \\\n",
       "Xkr4                          0                       0   \n",
       "Gm1992                        0                       0   \n",
       "Gm37381                       0                       0   \n",
       "Rp1                           0                       0   \n",
       "Rp1                           0                       0   \n",
       "\n",
       "         10X36_1_CTTTGATGACACAC  10X36_1_GGATACTGGGTACT  \\\n",
       "Xkr4                          0                       0   \n",
       "Gm1992                        0                       0   \n",
       "Gm37381                       0                       0   \n",
       "Rp1                           0                       0   \n",
       "Rp1                           0                       0   \n",
       "\n",
       "         10X36_1_GGATTTCTGACACT  10X36_1_GTAGTGTGACACCA  \\\n",
       "Xkr4                          0                       0   \n",
       "Gm1992                        0                       0   \n",
       "Gm37381                       0                       0   \n",
       "Rp1                           0                       0   \n",
       "Rp1                           0                       0   \n",
       "\n",
       "         10X36_1_TGGAAGCTACTAGC  10X36_1_TTCCAAACTACGCA  \\\n",
       "Xkr4                          0                       0   \n",
       "Gm1992                        0                       0   \n",
       "Gm37381                       0                       0   \n",
       "Rp1                           0                       0   \n",
       "Rp1                           0                       0   \n",
       "\n",
       "                  ...            10X38_2_TTCACAACTTGCTT  \\\n",
       "Xkr4              ...                                 0   \n",
       "Gm1992            ...                                 0   \n",
       "Gm37381           ...                                 0   \n",
       "Rp1               ...                                 0   \n",
       "Rp1               ...                                 0   \n",
       "\n",
       "         10X38_2_TTCACCCTCCATGA  10X38_2_TTCATTCTTTTGCT  \\\n",
       "Xkr4                          1                       0   \n",
       "Gm1992                        0                       0   \n",
       "Gm37381                       0                       0   \n",
       "Rp1                           0                       0   \n",
       "Rp1                           0                       0   \n",
       "\n",
       "         10X38_2_TTCCTAGATCCAGA  10X38_2_TTCTGATGTGTCTT  \\\n",
       "Xkr4                          0                       0   \n",
       "Gm1992                        0                       0   \n",
       "Gm37381                       0                       0   \n",
       "Rp1                           0                       0   \n",
       "Rp1                           0                       0   \n",
       "\n",
       "         10X38_2_TTGACACTGTCAAC  10X38_2_TTGCTATGAGCATC  \\\n",
       "Xkr4                          0                       1   \n",
       "Gm1992                        0                       0   \n",
       "Gm37381                       0                       0   \n",
       "Rp1                           0                       0   \n",
       "Rp1                           0                       0   \n",
       "\n",
       "         10X38_2_TTGTAGCTCAAAGA  10X38_2_TTTATCCTTAGACC  \\\n",
       "Xkr4                          0                       0   \n",
       "Gm1992                        0                       0   \n",
       "Gm37381                       0                       0   \n",
       "Rp1                           0                       0   \n",
       "Rp1                           0                       0   \n",
       "\n",
       "         10X38_2_TTTGCATGGTACGT  \n",
       "Xkr4                          0  \n",
       "Gm1992                        0  \n",
       "Gm37381                       0  \n",
       "Rp1                           0  \n",
       "Rp1                           0  \n",
       "\n",
       "[5 rows x 6971 columns]"
      ]
     },
     "execution_count": 5,
     "metadata": {},
     "output_type": "execute_result"
    }
   ],
   "source": [
    "data.head()"
   ]
  },
  {
   "cell_type": "code",
   "execution_count": 6,
   "metadata": {},
   "outputs": [
    {
     "data": {
      "text/plain": [
       "(27998, 6971)"
      ]
     },
     "execution_count": 6,
     "metadata": {},
     "output_type": "execute_result"
    }
   ],
   "source": [
    "data.shape"
   ]
  },
  {
   "cell_type": "code",
   "execution_count": 7,
   "metadata": {},
   "outputs": [
    {
     "data": {
      "text/plain": [
       "(27933, 6971)"
      ]
     },
     "execution_count": 7,
     "metadata": {},
     "output_type": "execute_result"
    }
   ],
   "source": [
    "data = data[~data.index.duplicated()]\n",
    "data.shape"
   ]
  },
  {
   "cell_type": "code",
   "execution_count": 8,
   "metadata": {},
   "outputs": [
    {
     "data": {
      "text/plain": [
       "<27933x6971 sparse matrix of type '<class 'numpy.longlong'>'\n",
       "\twith 13974597 stored elements in Compressed Sparse Row format>"
      ]
     },
     "execution_count": 8,
     "metadata": {},
     "output_type": "execute_result"
    }
   ],
   "source": [
    "x = sp.csr_matrix(data.values)\n",
    "x"
   ]
  },
  {
   "cell_type": "code",
   "execution_count": 9,
   "metadata": {},
   "outputs": [
    {
     "data": {
      "text/plain": [
       "AnnData object with n_obs × n_vars = 6971 × 27933 \n",
       "    uns: 'name', 'year', 'organism', 'tissue'"
      ]
     },
     "execution_count": 9,
     "metadata": {},
     "output_type": "execute_result"
    }
   ],
   "source": [
    "adata = anndata.AnnData(\n",
    "    x.T,\n",
    "    uns={\"name\": \"harris_2018\", \"year\": 2018, \"organism\": \"mouse\", \"tissue\": \"brain\"},\n",
    "    var={\"var_names\": data.index.values},\n",
    "    obs={\"obs_names\": data.columns.values},\n",
    ")\n",
    "adata"
   ]
  },
  {
   "cell_type": "code",
   "execution_count": 10,
   "metadata": {},
   "outputs": [],
   "source": [
    "adata.write_h5ad(path.join(\"..\", \"..\", \"data\", \"h5ad\", \"harris_2018.h5ad\"))"
   ]
  },
  {
   "cell_type": "code",
   "execution_count": null,
   "metadata": {},
   "outputs": [],
   "source": []
  }
 ],
 "metadata": {
  "kernelspec": {
   "display_name": "Python 3",
   "language": "python",
   "name": "python3"
  },
  "language_info": {
   "codemirror_mode": {
    "name": "ipython",
    "version": 3
   },
   "file_extension": ".py",
   "mimetype": "text/x-python",
   "name": "python",
   "nbconvert_exporter": "python",
   "pygments_lexer": "ipython3",
   "version": "3.7.6"
  }
 },
 "nbformat": 4,
 "nbformat_minor": 4
}
