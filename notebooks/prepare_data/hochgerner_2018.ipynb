{
 "cells": [
  {
   "cell_type": "code",
   "execution_count": 1,
   "metadata": {},
   "outputs": [],
   "source": [
    "from os import path\n",
    "from os import listdir\n",
    "\n",
    "import pandas as pd\n",
    "import scipy.sparse as sp\n",
    "import anndata"
   ]
  },
  {
   "cell_type": "markdown",
   "metadata": {},
   "source": [
    "Download files to `data/hochgerner_2018` folder:\n",
    "\n",
    "Main page:\n",
    "https://www.ncbi.nlm.nih.gov/geo/query/acc.cgi?acc=GSE104323\n",
    "\n",
    "- ftp://ftp.ncbi.nlm.nih.gov/geo/series/GSE104nnn/GSE104323/suppl/GSE104323_10X_expression_data_V2.tab.gz\n",
    "- ftp://ftp.ncbi.nlm.nih.gov/geo/series/GSE104nnn/GSE104323/suppl/GSE104323_metadata_barcodes_24185cells.txt.gz"
   ]
  },
  {
   "cell_type": "code",
   "execution_count": 2,
   "metadata": {},
   "outputs": [],
   "source": [
    "data_path = path.join(\"..\", \"..\", \"data\", \"hochgerner_2018\")"
   ]
  },
  {
   "cell_type": "code",
   "execution_count": 3,
   "metadata": {},
   "outputs": [
    {
     "data": {
      "text/plain": [
       "['GSE104323_metadata_barcodes_24185cells.txt.gz',\n",
       " 'GSE104323_10X_expression_data_V2.tab.gz']"
      ]
     },
     "execution_count": 3,
     "metadata": {},
     "output_type": "execute_result"
    }
   ],
   "source": [
    "listdir(data_path)"
   ]
  },
  {
   "cell_type": "code",
   "execution_count": 4,
   "metadata": {},
   "outputs": [
    {
     "name": "stdout",
     "output_type": "stream",
     "text": [
      "CPU times: user 3min 49s, sys: 13 s, total: 4min 2s\n",
      "Wall time: 4min 2s\n"
     ]
    }
   ],
   "source": [
    "%time data = pd.read_table(path.join(data_path, \"GSE104323_10X_expression_data_V2.tab.gz\"), index_col=0)"
   ]
  },
  {
   "cell_type": "code",
   "execution_count": 5,
   "metadata": {},
   "outputs": [
    {
     "data": {
      "text/html": [
       "<div>\n",
       "<style scoped>\n",
       "    .dataframe tbody tr th:only-of-type {\n",
       "        vertical-align: middle;\n",
       "    }\n",
       "\n",
       "    .dataframe tbody tr th {\n",
       "        vertical-align: top;\n",
       "    }\n",
       "\n",
       "    .dataframe thead th {\n",
       "        text-align: right;\n",
       "    }\n",
       "</style>\n",
       "<table border=\"1\" class=\"dataframe\">\n",
       "  <thead>\n",
       "    <tr style=\"text-align: right;\">\n",
       "      <th></th>\n",
       "      <th>10X79_1_TCTACCATGCCTAA-</th>\n",
       "      <th>10X79_2_GTACTAGTGAACAT-</th>\n",
       "      <th>10X79_2_AATCAGTACCTACA-</th>\n",
       "      <th>10X79_1_CGGGTTCTTGAGGT-</th>\n",
       "      <th>10X79_1_GTGGAAGGCGTACA-</th>\n",
       "      <th>10X79_1_GTCCGCAAGCCATT-</th>\n",
       "      <th>10X79_2_TAAAGCAATACGCT-</th>\n",
       "      <th>10X79_1_AGTGATCAGCAACT-</th>\n",
       "      <th>10X79_1_CTCAATCCCAAGAT-</th>\n",
       "      <th>10X79_1_CCTTGTCGGATGTT-</th>\n",
       "      <th>...</th>\n",
       "      <th>10X79_2_CCAAATCCTCCTAG-</th>\n",
       "      <th>10X79_2_ATGTAGTTATCGGT-</th>\n",
       "      <th>10X80_2_GCTAATCTTATCTG-</th>\n",
       "      <th>10X80_1_CATTTAGTACGCGA-</th>\n",
       "      <th>10X80_2_GAATCTCAGCGACC-</th>\n",
       "      <th>10X80_1_CACGGTCTACGAGT-</th>\n",
       "      <th>10X80_2_ATTGCAGCCACGTC-</th>\n",
       "      <th>10X80_1_GCGGTTCGGCATCG-</th>\n",
       "      <th>10X83_4_TTCAGCATACTCTT-</th>\n",
       "      <th>10X80_1_TTACCAGGAGTAGA-</th>\n",
       "    </tr>\n",
       "    <tr>\n",
       "      <th>cellid</th>\n",
       "      <th></th>\n",
       "      <th></th>\n",
       "      <th></th>\n",
       "      <th></th>\n",
       "      <th></th>\n",
       "      <th></th>\n",
       "      <th></th>\n",
       "      <th></th>\n",
       "      <th></th>\n",
       "      <th></th>\n",
       "      <th></th>\n",
       "      <th></th>\n",
       "      <th></th>\n",
       "      <th></th>\n",
       "      <th></th>\n",
       "      <th></th>\n",
       "      <th></th>\n",
       "      <th></th>\n",
       "      <th></th>\n",
       "      <th></th>\n",
       "      <th></th>\n",
       "    </tr>\n",
       "  </thead>\n",
       "  <tbody>\n",
       "    <tr>\n",
       "      <th>0610007P14Rik</th>\n",
       "      <td>0</td>\n",
       "      <td>0</td>\n",
       "      <td>1</td>\n",
       "      <td>0</td>\n",
       "      <td>0</td>\n",
       "      <td>0</td>\n",
       "      <td>0</td>\n",
       "      <td>1</td>\n",
       "      <td>0</td>\n",
       "      <td>0</td>\n",
       "      <td>...</td>\n",
       "      <td>0</td>\n",
       "      <td>0</td>\n",
       "      <td>0</td>\n",
       "      <td>0</td>\n",
       "      <td>0</td>\n",
       "      <td>0</td>\n",
       "      <td>0</td>\n",
       "      <td>0</td>\n",
       "      <td>0</td>\n",
       "      <td>0</td>\n",
       "    </tr>\n",
       "    <tr>\n",
       "      <th>0610009B22Rik</th>\n",
       "      <td>0</td>\n",
       "      <td>0</td>\n",
       "      <td>1</td>\n",
       "      <td>0</td>\n",
       "      <td>0</td>\n",
       "      <td>0</td>\n",
       "      <td>0</td>\n",
       "      <td>0</td>\n",
       "      <td>0</td>\n",
       "      <td>0</td>\n",
       "      <td>...</td>\n",
       "      <td>0</td>\n",
       "      <td>0</td>\n",
       "      <td>0</td>\n",
       "      <td>0</td>\n",
       "      <td>0</td>\n",
       "      <td>0</td>\n",
       "      <td>0</td>\n",
       "      <td>0</td>\n",
       "      <td>0</td>\n",
       "      <td>0</td>\n",
       "    </tr>\n",
       "    <tr>\n",
       "      <th>0610009L18Rik</th>\n",
       "      <td>0</td>\n",
       "      <td>0</td>\n",
       "      <td>0</td>\n",
       "      <td>0</td>\n",
       "      <td>0</td>\n",
       "      <td>0</td>\n",
       "      <td>0</td>\n",
       "      <td>0</td>\n",
       "      <td>0</td>\n",
       "      <td>0</td>\n",
       "      <td>...</td>\n",
       "      <td>0</td>\n",
       "      <td>0</td>\n",
       "      <td>0</td>\n",
       "      <td>0</td>\n",
       "      <td>0</td>\n",
       "      <td>0</td>\n",
       "      <td>0</td>\n",
       "      <td>0</td>\n",
       "      <td>0</td>\n",
       "      <td>0</td>\n",
       "    </tr>\n",
       "    <tr>\n",
       "      <th>0610009O20Rik</th>\n",
       "      <td>0</td>\n",
       "      <td>0</td>\n",
       "      <td>0</td>\n",
       "      <td>0</td>\n",
       "      <td>0</td>\n",
       "      <td>0</td>\n",
       "      <td>0</td>\n",
       "      <td>0</td>\n",
       "      <td>0</td>\n",
       "      <td>0</td>\n",
       "      <td>...</td>\n",
       "      <td>0</td>\n",
       "      <td>0</td>\n",
       "      <td>0</td>\n",
       "      <td>0</td>\n",
       "      <td>0</td>\n",
       "      <td>1</td>\n",
       "      <td>0</td>\n",
       "      <td>0</td>\n",
       "      <td>0</td>\n",
       "      <td>0</td>\n",
       "    </tr>\n",
       "    <tr>\n",
       "      <th>0610010F05Rik</th>\n",
       "      <td>0</td>\n",
       "      <td>0</td>\n",
       "      <td>0</td>\n",
       "      <td>0</td>\n",
       "      <td>0</td>\n",
       "      <td>0</td>\n",
       "      <td>0</td>\n",
       "      <td>1</td>\n",
       "      <td>0</td>\n",
       "      <td>0</td>\n",
       "      <td>...</td>\n",
       "      <td>0</td>\n",
       "      <td>0</td>\n",
       "      <td>0</td>\n",
       "      <td>0</td>\n",
       "      <td>0</td>\n",
       "      <td>0</td>\n",
       "      <td>0</td>\n",
       "      <td>0</td>\n",
       "      <td>0</td>\n",
       "      <td>0</td>\n",
       "    </tr>\n",
       "  </tbody>\n",
       "</table>\n",
       "<p>5 rows × 24185 columns</p>\n",
       "</div>"
      ],
      "text/plain": [
       "               10X79_1_TCTACCATGCCTAA-  10X79_2_GTACTAGTGAACAT-  \\\n",
       "cellid                                                            \n",
       "0610007P14Rik                        0                        0   \n",
       "0610009B22Rik                        0                        0   \n",
       "0610009L18Rik                        0                        0   \n",
       "0610009O20Rik                        0                        0   \n",
       "0610010F05Rik                        0                        0   \n",
       "\n",
       "               10X79_2_AATCAGTACCTACA-  10X79_1_CGGGTTCTTGAGGT-  \\\n",
       "cellid                                                            \n",
       "0610007P14Rik                        1                        0   \n",
       "0610009B22Rik                        1                        0   \n",
       "0610009L18Rik                        0                        0   \n",
       "0610009O20Rik                        0                        0   \n",
       "0610010F05Rik                        0                        0   \n",
       "\n",
       "               10X79_1_GTGGAAGGCGTACA-  10X79_1_GTCCGCAAGCCATT-  \\\n",
       "cellid                                                            \n",
       "0610007P14Rik                        0                        0   \n",
       "0610009B22Rik                        0                        0   \n",
       "0610009L18Rik                        0                        0   \n",
       "0610009O20Rik                        0                        0   \n",
       "0610010F05Rik                        0                        0   \n",
       "\n",
       "               10X79_2_TAAAGCAATACGCT-  10X79_1_AGTGATCAGCAACT-  \\\n",
       "cellid                                                            \n",
       "0610007P14Rik                        0                        1   \n",
       "0610009B22Rik                        0                        0   \n",
       "0610009L18Rik                        0                        0   \n",
       "0610009O20Rik                        0                        0   \n",
       "0610010F05Rik                        0                        1   \n",
       "\n",
       "               10X79_1_CTCAATCCCAAGAT-  10X79_1_CCTTGTCGGATGTT-  \\\n",
       "cellid                                                            \n",
       "0610007P14Rik                        0                        0   \n",
       "0610009B22Rik                        0                        0   \n",
       "0610009L18Rik                        0                        0   \n",
       "0610009O20Rik                        0                        0   \n",
       "0610010F05Rik                        0                        0   \n",
       "\n",
       "                        ...             10X79_2_CCAAATCCTCCTAG-  \\\n",
       "cellid                  ...                                       \n",
       "0610007P14Rik           ...                                   0   \n",
       "0610009B22Rik           ...                                   0   \n",
       "0610009L18Rik           ...                                   0   \n",
       "0610009O20Rik           ...                                   0   \n",
       "0610010F05Rik           ...                                   0   \n",
       "\n",
       "               10X79_2_ATGTAGTTATCGGT-  10X80_2_GCTAATCTTATCTG-  \\\n",
       "cellid                                                            \n",
       "0610007P14Rik                        0                        0   \n",
       "0610009B22Rik                        0                        0   \n",
       "0610009L18Rik                        0                        0   \n",
       "0610009O20Rik                        0                        0   \n",
       "0610010F05Rik                        0                        0   \n",
       "\n",
       "               10X80_1_CATTTAGTACGCGA-  10X80_2_GAATCTCAGCGACC-  \\\n",
       "cellid                                                            \n",
       "0610007P14Rik                        0                        0   \n",
       "0610009B22Rik                        0                        0   \n",
       "0610009L18Rik                        0                        0   \n",
       "0610009O20Rik                        0                        0   \n",
       "0610010F05Rik                        0                        0   \n",
       "\n",
       "               10X80_1_CACGGTCTACGAGT-  10X80_2_ATTGCAGCCACGTC-  \\\n",
       "cellid                                                            \n",
       "0610007P14Rik                        0                        0   \n",
       "0610009B22Rik                        0                        0   \n",
       "0610009L18Rik                        0                        0   \n",
       "0610009O20Rik                        1                        0   \n",
       "0610010F05Rik                        0                        0   \n",
       "\n",
       "               10X80_1_GCGGTTCGGCATCG-  10X83_4_TTCAGCATACTCTT-  \\\n",
       "cellid                                                            \n",
       "0610007P14Rik                        0                        0   \n",
       "0610009B22Rik                        0                        0   \n",
       "0610009L18Rik                        0                        0   \n",
       "0610009O20Rik                        0                        0   \n",
       "0610010F05Rik                        0                        0   \n",
       "\n",
       "               10X80_1_TTACCAGGAGTAGA-  \n",
       "cellid                                  \n",
       "0610007P14Rik                        0  \n",
       "0610009B22Rik                        0  \n",
       "0610009L18Rik                        0  \n",
       "0610009O20Rik                        0  \n",
       "0610010F05Rik                        0  \n",
       "\n",
       "[5 rows x 24185 columns]"
      ]
     },
     "execution_count": 5,
     "metadata": {},
     "output_type": "execute_result"
    }
   ],
   "source": [
    "data.head()"
   ]
  },
  {
   "cell_type": "code",
   "execution_count": 6,
   "metadata": {},
   "outputs": [
    {
     "data": {
      "text/plain": [
       "(27933, 24185)"
      ]
     },
     "execution_count": 6,
     "metadata": {},
     "output_type": "execute_result"
    }
   ],
   "source": [
    "data.shape"
   ]
  },
  {
   "cell_type": "code",
   "execution_count": 7,
   "metadata": {},
   "outputs": [
    {
     "data": {
      "text/html": [
       "<div>\n",
       "<style scoped>\n",
       "    .dataframe tbody tr th:only-of-type {\n",
       "        vertical-align: middle;\n",
       "    }\n",
       "\n",
       "    .dataframe tbody tr th {\n",
       "        vertical-align: top;\n",
       "    }\n",
       "\n",
       "    .dataframe thead th {\n",
       "        text-align: right;\n",
       "    }\n",
       "</style>\n",
       "<table border=\"1\" class=\"dataframe\">\n",
       "  <thead>\n",
       "    <tr style=\"text-align: right;\">\n",
       "      <th></th>\n",
       "      <th>source name</th>\n",
       "      <th>organism</th>\n",
       "      <th>characteristics: strain</th>\n",
       "      <th>characteristics: age</th>\n",
       "      <th>characteristics: sex of pooled animals</th>\n",
       "      <th>characteristics: cell cluster</th>\n",
       "      <th>molecule</th>\n",
       "      <th>SRR run accession</th>\n",
       "      <th>raw file (original file name)</th>\n",
       "      <th>UMI_CellularBarcode</th>\n",
       "    </tr>\n",
       "    <tr>\n",
       "      <th>Sample name (24185 single cells)</th>\n",
       "      <th></th>\n",
       "      <th></th>\n",
       "      <th></th>\n",
       "      <th></th>\n",
       "      <th></th>\n",
       "      <th></th>\n",
       "      <th></th>\n",
       "      <th></th>\n",
       "      <th></th>\n",
       "      <th></th>\n",
       "    </tr>\n",
       "  </thead>\n",
       "  <tbody>\n",
       "    <tr>\n",
       "      <th>10X79_1_AAACTAGCTAGCCC-</th>\n",
       "      <td>dentate gyrus</td>\n",
       "      <td>Mus musculus</td>\n",
       "      <td>hGFAP-GFP</td>\n",
       "      <td>P120</td>\n",
       "      <td>2males+1female</td>\n",
       "      <td>Neuroblast</td>\n",
       "      <td>total RNA</td>\n",
       "      <td>SRR6089817</td>\n",
       "      <td>10X79_1_AAACTAGCTAGCCC.fq.gz</td>\n",
       "      <td>CGGCGATCCC_AAACTAGCTAGCCC</td>\n",
       "    </tr>\n",
       "    <tr>\n",
       "      <th>10X79_1_AAACTAGGATGTAT-</th>\n",
       "      <td>dentate gyrus</td>\n",
       "      <td>Mus musculus</td>\n",
       "      <td>hGFAP-GFP</td>\n",
       "      <td>P120</td>\n",
       "      <td>2males+1female</td>\n",
       "      <td>OPC</td>\n",
       "      <td>total RNA</td>\n",
       "      <td>SRR6089947</td>\n",
       "      <td>10X79_1_AAACTAGGATGTAT.fq.gz</td>\n",
       "      <td>AGTGGTAATG_AAACTAGGATGTAT</td>\n",
       "    </tr>\n",
       "    <tr>\n",
       "      <th>10X79_1_AAACTCACGGCGTT-</th>\n",
       "      <td>dentate gyrus</td>\n",
       "      <td>Mus musculus</td>\n",
       "      <td>hGFAP-GFP</td>\n",
       "      <td>P120</td>\n",
       "      <td>2males+1female</td>\n",
       "      <td>GC-adult</td>\n",
       "      <td>total RNA</td>\n",
       "      <td>SRR6089529</td>\n",
       "      <td>10X79_1_AAACTCACGGCGTT.fq.gz</td>\n",
       "      <td>GGGTGCGCTC_AAACTCACGGCGTT</td>\n",
       "    </tr>\n",
       "    <tr>\n",
       "      <th>10X79_1_AAACTGTCGGCTCA-</th>\n",
       "      <td>dentate gyrus</td>\n",
       "      <td>Mus musculus</td>\n",
       "      <td>hGFAP-GFP</td>\n",
       "      <td>P120</td>\n",
       "      <td>2males+1female</td>\n",
       "      <td>MOL</td>\n",
       "      <td>total RNA</td>\n",
       "      <td>SRR6089595</td>\n",
       "      <td>10X79_1_AAACTGTCGGCTCA.fq.gz</td>\n",
       "      <td>CCTTTCAACG_AAACTGTCGGCTCA</td>\n",
       "    </tr>\n",
       "    <tr>\n",
       "      <th>10X79_1_AAACTGTGATAAGT-</th>\n",
       "      <td>dentate gyrus</td>\n",
       "      <td>Mus musculus</td>\n",
       "      <td>hGFAP-GFP</td>\n",
       "      <td>P120</td>\n",
       "      <td>2males+1female</td>\n",
       "      <td>OPC</td>\n",
       "      <td>total RNA</td>\n",
       "      <td>SRR6090058</td>\n",
       "      <td>10X79_1_AAACTGTGATAAGT.fq.gz</td>\n",
       "      <td>CCTTTCAGGT_AAACTGTGATAAGT</td>\n",
       "    </tr>\n",
       "  </tbody>\n",
       "</table>\n",
       "</div>"
      ],
      "text/plain": [
       "                                    source name      organism  \\\n",
       "Sample name (24185 single cells)                                \n",
       "10X79_1_AAACTAGCTAGCCC-           dentate gyrus  Mus musculus   \n",
       "10X79_1_AAACTAGGATGTAT-           dentate gyrus  Mus musculus   \n",
       "10X79_1_AAACTCACGGCGTT-           dentate gyrus  Mus musculus   \n",
       "10X79_1_AAACTGTCGGCTCA-           dentate gyrus  Mus musculus   \n",
       "10X79_1_AAACTGTGATAAGT-           dentate gyrus  Mus musculus   \n",
       "\n",
       "                                 characteristics: strain characteristics: age  \\\n",
       "Sample name (24185 single cells)                                                \n",
       "10X79_1_AAACTAGCTAGCCC-                        hGFAP-GFP                 P120   \n",
       "10X79_1_AAACTAGGATGTAT-                        hGFAP-GFP                 P120   \n",
       "10X79_1_AAACTCACGGCGTT-                        hGFAP-GFP                 P120   \n",
       "10X79_1_AAACTGTCGGCTCA-                        hGFAP-GFP                 P120   \n",
       "10X79_1_AAACTGTGATAAGT-                        hGFAP-GFP                 P120   \n",
       "\n",
       "                                 characteristics: sex of pooled animals  \\\n",
       "Sample name (24185 single cells)                                          \n",
       "10X79_1_AAACTAGCTAGCCC-                                  2males+1female   \n",
       "10X79_1_AAACTAGGATGTAT-                                  2males+1female   \n",
       "10X79_1_AAACTCACGGCGTT-                                  2males+1female   \n",
       "10X79_1_AAACTGTCGGCTCA-                                  2males+1female   \n",
       "10X79_1_AAACTGTGATAAGT-                                  2males+1female   \n",
       "\n",
       "                                 characteristics: cell cluster   molecule  \\\n",
       "Sample name (24185 single cells)                                            \n",
       "10X79_1_AAACTAGCTAGCCC-                             Neuroblast  total RNA   \n",
       "10X79_1_AAACTAGGATGTAT-                                    OPC  total RNA   \n",
       "10X79_1_AAACTCACGGCGTT-                               GC-adult  total RNA   \n",
       "10X79_1_AAACTGTCGGCTCA-                                    MOL  total RNA   \n",
       "10X79_1_AAACTGTGATAAGT-                                    OPC  total RNA   \n",
       "\n",
       "                                 SRR run accession  \\\n",
       "Sample name (24185 single cells)                     \n",
       "10X79_1_AAACTAGCTAGCCC-                 SRR6089817   \n",
       "10X79_1_AAACTAGGATGTAT-                 SRR6089947   \n",
       "10X79_1_AAACTCACGGCGTT-                 SRR6089529   \n",
       "10X79_1_AAACTGTCGGCTCA-                 SRR6089595   \n",
       "10X79_1_AAACTGTGATAAGT-                 SRR6090058   \n",
       "\n",
       "                                 raw file (original file name)  \\\n",
       "Sample name (24185 single cells)                                 \n",
       "10X79_1_AAACTAGCTAGCCC-           10X79_1_AAACTAGCTAGCCC.fq.gz   \n",
       "10X79_1_AAACTAGGATGTAT-           10X79_1_AAACTAGGATGTAT.fq.gz   \n",
       "10X79_1_AAACTCACGGCGTT-           10X79_1_AAACTCACGGCGTT.fq.gz   \n",
       "10X79_1_AAACTGTCGGCTCA-           10X79_1_AAACTGTCGGCTCA.fq.gz   \n",
       "10X79_1_AAACTGTGATAAGT-           10X79_1_AAACTGTGATAAGT.fq.gz   \n",
       "\n",
       "                                        UMI_CellularBarcode  \n",
       "Sample name (24185 single cells)                             \n",
       "10X79_1_AAACTAGCTAGCCC-           CGGCGATCCC_AAACTAGCTAGCCC  \n",
       "10X79_1_AAACTAGGATGTAT-           AGTGGTAATG_AAACTAGGATGTAT  \n",
       "10X79_1_AAACTCACGGCGTT-           GGGTGCGCTC_AAACTCACGGCGTT  \n",
       "10X79_1_AAACTGTCGGCTCA-           CCTTTCAACG_AAACTGTCGGCTCA  \n",
       "10X79_1_AAACTGTGATAAGT-           CCTTTCAGGT_AAACTGTGATAAGT  "
      ]
     },
     "execution_count": 7,
     "metadata": {},
     "output_type": "execute_result"
    }
   ],
   "source": [
    "metadata = pd.read_table(path.join(data_path, \"GSE104323_metadata_barcodes_24185cells.txt.gz\"), index_col=0)\n",
    "metadata.head()"
   ]
  },
  {
   "cell_type": "markdown",
   "metadata": {},
   "source": [
    "The metadata contains some NaN rows at the end, so remove those."
   ]
  },
  {
   "cell_type": "code",
   "execution_count": 8,
   "metadata": {},
   "outputs": [
    {
     "data": {
      "text/plain": [
       "31"
      ]
     },
     "execution_count": 8,
     "metadata": {},
     "output_type": "execute_result"
    }
   ],
   "source": [
    "nan_mask = metadata.isna().all(axis=1)\n",
    "nan_mask.sum()"
   ]
  },
  {
   "cell_type": "code",
   "execution_count": 9,
   "metadata": {},
   "outputs": [
    {
     "data": {
      "text/plain": [
       "(24185, 10)"
      ]
     },
     "execution_count": 9,
     "metadata": {},
     "output_type": "execute_result"
    }
   ],
   "source": [
    "metadata = metadata.loc[~nan_mask]\n",
    "metadata.shape"
   ]
  },
  {
   "cell_type": "markdown",
   "metadata": {},
   "source": [
    "Select the subset of cells for which we have metadata."
   ]
  },
  {
   "cell_type": "code",
   "execution_count": 10,
   "metadata": {},
   "outputs": [
    {
     "data": {
      "text/plain": [
       "(27933, 24185)"
      ]
     },
     "execution_count": 10,
     "metadata": {},
     "output_type": "execute_result"
    }
   ],
   "source": [
    "data = data.loc[:, metadata.index]\n",
    "data.shape"
   ]
  },
  {
   "cell_type": "code",
   "execution_count": 11,
   "metadata": {},
   "outputs": [
    {
     "data": {
      "text/plain": [
       "immature pyramidal neuron                 4520\n",
       "juevnile granule cell                     3420\n",
       "granule cell                              2613\n",
       "immature granule cell                     2419\n",
       "neuroblast                                1381\n",
       "astrocyte                                 1232\n",
       "immature GABAergic neuron                 1024\n",
       "radial glial cell                          885\n",
       "juvenile astrocyte                         821\n",
       "neuronal intermediate progenitor cells     821\n",
       "oligodendrocyte precursor cell             794\n",
       "oligodendrocyte                            704\n",
       "immature astrocyte                         651\n",
       "endothelial cell                           543\n",
       "Cajal-Retzius cell                         535\n",
       "pyramidal neuron                           532\n",
       "glial cell                                 428\n",
       "newly formed oligodendrocyte               232\n",
       "GABAergic neuron                           209\n",
       "ependymal cell                             182\n",
       "vascular and leptomeningeal cell           160\n",
       "perivascular macrophage                     79\n",
       "Name: characteristics: cell cluster, dtype: int64"
      ]
     },
     "execution_count": 11,
     "metadata": {},
     "output_type": "execute_result"
    }
   ],
   "source": [
    "cell_types = metadata[\"characteristics: cell cluster\"].copy()\n",
    "\n",
    "cell_types = cell_types.replace({\n",
    "    \"Immature-Pyr\": \"immature pyramidal neuron\",\n",
    "    \"GC-juv\": \"juevnile granule cell\",\n",
    "    \"GC-adult\": \"granule cell\",\n",
    "    \"Immature-GC\": \"immature granule cell\",\n",
    "    \"Neuroblast\": \"neuroblast\",\n",
    "    \"Astro-adult\": \"astrocyte\",\n",
    "    \"Immature-GABA\": \"immature GABAergic neuron\",\n",
    "    \"Astro-juv\": \"juvenile astrocyte\",\n",
    "    \"OPC\": \"oligodendrocyte precursor cell\",\n",
    "    \"MOL\": \"oligodendrocyte\",\n",
    "    \"RGL_young\": \"radial glial cell\",\n",
    "    \"Immature-Astro\": \"immature astrocyte\",\n",
    "    \"Endothelial\": \"endothelial cell\",\n",
    "    \"Cajal-Retzius\": \"Cajal-Retzius cell\",\n",
    "    \"CA3-Pyr\": \"pyramidal neuron\",\n",
    "    \"nIPC-perin\": \"neuronal intermediate progenitor cells\",\n",
    "    \"nIPC\": \"neuronal intermediate progenitor cells\",\n",
    "    \"MiCajal-Retziusoglia\": \"glial cell\",\n",
    "    \"NFOL\": \"newly formed oligodendrocyte\",\n",
    "    \"GABA\": \"GABAergic neuron\",\n",
    "    \"RGL\": \"radial glial cell\",\n",
    "    \"Ependymal\": \"ependymal cell\",\n",
    "    \"VLMC\": \"vascular and leptomeningeal cell\",\n",
    "    \"PVM\": \"perivascular macrophage\",\n",
    "})\n",
    "\n",
    "pd.Series.value_counts(cell_types)"
   ]
  },
  {
   "cell_type": "code",
   "execution_count": 12,
   "metadata": {},
   "outputs": [
    {
     "data": {
      "text/plain": [
       "<27933x24185 sparse matrix of type '<class 'numpy.longlong'>'\n",
       "\twith 46646438 stored elements in Compressed Sparse Row format>"
      ]
     },
     "execution_count": 12,
     "metadata": {},
     "output_type": "execute_result"
    }
   ],
   "source": [
    "x = sp.csr_matrix(data.values)\n",
    "x"
   ]
  },
  {
   "cell_type": "code",
   "execution_count": 13,
   "metadata": {},
   "outputs": [
    {
     "data": {
      "text/plain": [
       "AnnData object with n_obs × n_vars = 24185 × 27933 \n",
       "    obs: 'labels', 'age'\n",
       "    uns: 'name', 'year', 'organism', 'tissue'"
      ]
     },
     "execution_count": 13,
     "metadata": {},
     "output_type": "execute_result"
    }
   ],
   "source": [
    "adata = anndata.AnnData(\n",
    "    x.T,\n",
    "    uns={\"name\": \"hochgerner_2018\", \"year\": 2018, \"organism\": \"mouse\", \"tissue\": \"dentate gyrus\"},\n",
    "    var={\"var_names\": data.index.values},\n",
    "    obs={\n",
    "        \"obs_names\": data.columns.values,\n",
    "        \"labels\": cell_types.values.astype(str),\n",
    "        \"age\": metadata[\"characteristics: age\"].values,\n",
    "    },\n",
    ")\n",
    "adata"
   ]
  },
  {
   "cell_type": "code",
   "execution_count": 14,
   "metadata": {},
   "outputs": [
    {
     "name": "stderr",
     "output_type": "stream",
     "text": [
      "... storing 'labels' as categorical\n",
      "... storing 'age' as categorical\n"
     ]
    }
   ],
   "source": [
    "adata.write_h5ad(path.join(\"..\", \"..\", \"data\", \"h5ad\", \"hochgerner_2018.h5ad\"))"
   ]
  },
  {
   "cell_type": "code",
   "execution_count": null,
   "metadata": {},
   "outputs": [],
   "source": []
  }
 ],
 "metadata": {
  "kernelspec": {
   "display_name": "Python 3",
   "language": "python",
   "name": "python3"
  },
  "language_info": {
   "codemirror_mode": {
    "name": "ipython",
    "version": 3
   },
   "file_extension": ".py",
   "mimetype": "text/x-python",
   "name": "python",
   "nbconvert_exporter": "python",
   "pygments_lexer": "ipython3",
   "version": "3.7.6"
  }
 },
 "nbformat": 4,
 "nbformat_minor": 4
}
