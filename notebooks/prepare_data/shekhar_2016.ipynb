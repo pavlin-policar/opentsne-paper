{
 "cells": [
  {
   "cell_type": "code",
   "execution_count": 1,
   "metadata": {},
   "outputs": [],
   "source": [
    "from os import path\n",
    "from os import listdir\n",
    "\n",
    "import pandas as pd\n",
    "import scipy.sparse as sp\n",
    "import anndata"
   ]
  },
  {
   "cell_type": "markdown",
   "metadata": {},
   "source": [
    "Download files to `data/shekhar_2016` folder:\n",
    "\n",
    "Main page: https://www.ncbi.nlm.nih.gov/geo/query/acc.cgi?acc=GSE81904\n",
    "\n",
    "- https://ftp.ncbi.nlm.nih.gov/geo/series/GSE81nnn/GSE81904/suppl/GSE81904_BipolarUMICounts_Cell2016.txt.gz\n",
    "- https://s3.amazonaws.com/scrnaseq-public-datasets/manual-data/shekhar/clust_retinal_bipolar.txt"
   ]
  },
  {
   "cell_type": "code",
   "execution_count": 2,
   "metadata": {},
   "outputs": [],
   "source": [
    "data_path = path.join(\"..\", \"..\", \"data\", \"shekhar_2016\")"
   ]
  },
  {
   "cell_type": "code",
   "execution_count": 3,
   "metadata": {},
   "outputs": [
    {
     "data": {
      "text/plain": [
       "['GSE81904_BipolarUMICounts_Cell2016.txt.gz', 'clust_retinal_bipolar.txt']"
      ]
     },
     "execution_count": 3,
     "metadata": {},
     "output_type": "execute_result"
    }
   ],
   "source": [
    "listdir(data_path)"
   ]
  },
  {
   "cell_type": "code",
   "execution_count": 4,
   "metadata": {},
   "outputs": [
    {
     "name": "stdout",
     "output_type": "stream",
     "text": [
      "CPU times: user 15min 13s, sys: 30.2 s, total: 15min 44s\n",
      "Wall time: 15min 39s\n"
     ]
    }
   ],
   "source": [
    "%time data = pd.read_table(path.join(data_path, \"GSE81904_BipolarUMICounts_Cell2016.txt.gz\"), index_col=0)"
   ]
  },
  {
   "cell_type": "code",
   "execution_count": 5,
   "metadata": {},
   "outputs": [
    {
     "data": {
      "text/html": [
       "<div>\n",
       "<style scoped>\n",
       "    .dataframe tbody tr th:only-of-type {\n",
       "        vertical-align: middle;\n",
       "    }\n",
       "\n",
       "    .dataframe tbody tr th {\n",
       "        vertical-align: top;\n",
       "    }\n",
       "\n",
       "    .dataframe thead th {\n",
       "        text-align: right;\n",
       "    }\n",
       "</style>\n",
       "<table border=\"1\" class=\"dataframe\">\n",
       "  <thead>\n",
       "    <tr style=\"text-align: right;\">\n",
       "      <th></th>\n",
       "      <th>Bipolar1_CCCACAAGACTA</th>\n",
       "      <th>Bipolar1_TCGCCTCGTAAG</th>\n",
       "      <th>Bipolar1_CAAAGCATTTGC</th>\n",
       "      <th>Bipolar1_CTTTTGATTGAC</th>\n",
       "      <th>Bipolar1_GCTCCAATGACA</th>\n",
       "      <th>Bipolar1_AAATACCCTCAT</th>\n",
       "      <th>Bipolar1_TGCATGCGTCCA</th>\n",
       "      <th>Bipolar1_TTCCGGCTTTTC</th>\n",
       "      <th>Bipolar1_CAACGTATCCTT</th>\n",
       "      <th>Bipolar1_CATCGAACGACG</th>\n",
       "      <th>...</th>\n",
       "      <th>Bipolar6_GACACATTAATG</th>\n",
       "      <th>Bipolar6_GCCGCTTTCGTG</th>\n",
       "      <th>Bipolar6_GCGACGTGAATA</th>\n",
       "      <th>Bipolar6_GTACTTGGAGGA</th>\n",
       "      <th>Bipolar6_GTGTGTTCCTAG</th>\n",
       "      <th>Bipolar6_GAATTTGCTGAC</th>\n",
       "      <th>Bipolar6_GCGGGACAATAC</th>\n",
       "      <th>Bipolar6_GTGGTGCGAAGT</th>\n",
       "      <th>Bipolar6_GAAGAATGCGCT</th>\n",
       "      <th>Bipolar6_GGCAACACGATA</th>\n",
       "    </tr>\n",
       "  </thead>\n",
       "  <tbody>\n",
       "    <tr>\n",
       "      <th>0610005C13Rik</th>\n",
       "      <td>0</td>\n",
       "      <td>0</td>\n",
       "      <td>0</td>\n",
       "      <td>0</td>\n",
       "      <td>0</td>\n",
       "      <td>0</td>\n",
       "      <td>0</td>\n",
       "      <td>0</td>\n",
       "      <td>0</td>\n",
       "      <td>0</td>\n",
       "      <td>...</td>\n",
       "      <td>0</td>\n",
       "      <td>0</td>\n",
       "      <td>0</td>\n",
       "      <td>0</td>\n",
       "      <td>0</td>\n",
       "      <td>0</td>\n",
       "      <td>0</td>\n",
       "      <td>0</td>\n",
       "      <td>0</td>\n",
       "      <td>0</td>\n",
       "    </tr>\n",
       "    <tr>\n",
       "      <th>0610007P14Rik</th>\n",
       "      <td>0</td>\n",
       "      <td>0</td>\n",
       "      <td>0</td>\n",
       "      <td>0</td>\n",
       "      <td>2</td>\n",
       "      <td>0</td>\n",
       "      <td>0</td>\n",
       "      <td>0</td>\n",
       "      <td>1</td>\n",
       "      <td>0</td>\n",
       "      <td>...</td>\n",
       "      <td>0</td>\n",
       "      <td>0</td>\n",
       "      <td>0</td>\n",
       "      <td>0</td>\n",
       "      <td>0</td>\n",
       "      <td>1</td>\n",
       "      <td>0</td>\n",
       "      <td>0</td>\n",
       "      <td>0</td>\n",
       "      <td>0</td>\n",
       "    </tr>\n",
       "    <tr>\n",
       "      <th>0610009B22Rik</th>\n",
       "      <td>0</td>\n",
       "      <td>1</td>\n",
       "      <td>0</td>\n",
       "      <td>0</td>\n",
       "      <td>1</td>\n",
       "      <td>0</td>\n",
       "      <td>0</td>\n",
       "      <td>0</td>\n",
       "      <td>0</td>\n",
       "      <td>0</td>\n",
       "      <td>...</td>\n",
       "      <td>0</td>\n",
       "      <td>0</td>\n",
       "      <td>0</td>\n",
       "      <td>0</td>\n",
       "      <td>0</td>\n",
       "      <td>0</td>\n",
       "      <td>0</td>\n",
       "      <td>0</td>\n",
       "      <td>0</td>\n",
       "      <td>0</td>\n",
       "    </tr>\n",
       "    <tr>\n",
       "      <th>0610009E02Rik</th>\n",
       "      <td>0</td>\n",
       "      <td>0</td>\n",
       "      <td>0</td>\n",
       "      <td>0</td>\n",
       "      <td>0</td>\n",
       "      <td>0</td>\n",
       "      <td>0</td>\n",
       "      <td>0</td>\n",
       "      <td>0</td>\n",
       "      <td>0</td>\n",
       "      <td>...</td>\n",
       "      <td>0</td>\n",
       "      <td>0</td>\n",
       "      <td>0</td>\n",
       "      <td>0</td>\n",
       "      <td>0</td>\n",
       "      <td>0</td>\n",
       "      <td>0</td>\n",
       "      <td>0</td>\n",
       "      <td>0</td>\n",
       "      <td>0</td>\n",
       "    </tr>\n",
       "    <tr>\n",
       "      <th>0610009L18Rik</th>\n",
       "      <td>0</td>\n",
       "      <td>0</td>\n",
       "      <td>0</td>\n",
       "      <td>0</td>\n",
       "      <td>0</td>\n",
       "      <td>0</td>\n",
       "      <td>0</td>\n",
       "      <td>0</td>\n",
       "      <td>0</td>\n",
       "      <td>0</td>\n",
       "      <td>...</td>\n",
       "      <td>0</td>\n",
       "      <td>0</td>\n",
       "      <td>0</td>\n",
       "      <td>0</td>\n",
       "      <td>0</td>\n",
       "      <td>0</td>\n",
       "      <td>0</td>\n",
       "      <td>0</td>\n",
       "      <td>0</td>\n",
       "      <td>0</td>\n",
       "    </tr>\n",
       "  </tbody>\n",
       "</table>\n",
       "<p>5 rows × 44994 columns</p>\n",
       "</div>"
      ],
      "text/plain": [
       "               Bipolar1_CCCACAAGACTA  Bipolar1_TCGCCTCGTAAG  \\\n",
       "0610005C13Rik                      0                      0   \n",
       "0610007P14Rik                      0                      0   \n",
       "0610009B22Rik                      0                      1   \n",
       "0610009E02Rik                      0                      0   \n",
       "0610009L18Rik                      0                      0   \n",
       "\n",
       "               Bipolar1_CAAAGCATTTGC  Bipolar1_CTTTTGATTGAC  \\\n",
       "0610005C13Rik                      0                      0   \n",
       "0610007P14Rik                      0                      0   \n",
       "0610009B22Rik                      0                      0   \n",
       "0610009E02Rik                      0                      0   \n",
       "0610009L18Rik                      0                      0   \n",
       "\n",
       "               Bipolar1_GCTCCAATGACA  Bipolar1_AAATACCCTCAT  \\\n",
       "0610005C13Rik                      0                      0   \n",
       "0610007P14Rik                      2                      0   \n",
       "0610009B22Rik                      1                      0   \n",
       "0610009E02Rik                      0                      0   \n",
       "0610009L18Rik                      0                      0   \n",
       "\n",
       "               Bipolar1_TGCATGCGTCCA  Bipolar1_TTCCGGCTTTTC  \\\n",
       "0610005C13Rik                      0                      0   \n",
       "0610007P14Rik                      0                      0   \n",
       "0610009B22Rik                      0                      0   \n",
       "0610009E02Rik                      0                      0   \n",
       "0610009L18Rik                      0                      0   \n",
       "\n",
       "               Bipolar1_CAACGTATCCTT  Bipolar1_CATCGAACGACG  \\\n",
       "0610005C13Rik                      0                      0   \n",
       "0610007P14Rik                      1                      0   \n",
       "0610009B22Rik                      0                      0   \n",
       "0610009E02Rik                      0                      0   \n",
       "0610009L18Rik                      0                      0   \n",
       "\n",
       "                       ...            Bipolar6_GACACATTAATG  \\\n",
       "0610005C13Rik          ...                                0   \n",
       "0610007P14Rik          ...                                0   \n",
       "0610009B22Rik          ...                                0   \n",
       "0610009E02Rik          ...                                0   \n",
       "0610009L18Rik          ...                                0   \n",
       "\n",
       "               Bipolar6_GCCGCTTTCGTG  Bipolar6_GCGACGTGAATA  \\\n",
       "0610005C13Rik                      0                      0   \n",
       "0610007P14Rik                      0                      0   \n",
       "0610009B22Rik                      0                      0   \n",
       "0610009E02Rik                      0                      0   \n",
       "0610009L18Rik                      0                      0   \n",
       "\n",
       "               Bipolar6_GTACTTGGAGGA  Bipolar6_GTGTGTTCCTAG  \\\n",
       "0610005C13Rik                      0                      0   \n",
       "0610007P14Rik                      0                      0   \n",
       "0610009B22Rik                      0                      0   \n",
       "0610009E02Rik                      0                      0   \n",
       "0610009L18Rik                      0                      0   \n",
       "\n",
       "               Bipolar6_GAATTTGCTGAC  Bipolar6_GCGGGACAATAC  \\\n",
       "0610005C13Rik                      0                      0   \n",
       "0610007P14Rik                      1                      0   \n",
       "0610009B22Rik                      0                      0   \n",
       "0610009E02Rik                      0                      0   \n",
       "0610009L18Rik                      0                      0   \n",
       "\n",
       "               Bipolar6_GTGGTGCGAAGT  Bipolar6_GAAGAATGCGCT  \\\n",
       "0610005C13Rik                      0                      0   \n",
       "0610007P14Rik                      0                      0   \n",
       "0610009B22Rik                      0                      0   \n",
       "0610009E02Rik                      0                      0   \n",
       "0610009L18Rik                      0                      0   \n",
       "\n",
       "               Bipolar6_GGCAACACGATA  \n",
       "0610005C13Rik                      0  \n",
       "0610007P14Rik                      0  \n",
       "0610009B22Rik                      0  \n",
       "0610009E02Rik                      0  \n",
       "0610009L18Rik                      0  \n",
       "\n",
       "[5 rows x 44994 columns]"
      ]
     },
     "execution_count": 5,
     "metadata": {},
     "output_type": "execute_result"
    }
   ],
   "source": [
    "data.head()"
   ]
  },
  {
   "cell_type": "code",
   "execution_count": 6,
   "metadata": {},
   "outputs": [
    {
     "data": {
      "text/plain": [
       "(24904, 44994)"
      ]
     },
     "execution_count": 6,
     "metadata": {},
     "output_type": "execute_result"
    }
   ],
   "source": [
    "data.shape"
   ]
  },
  {
   "cell_type": "code",
   "execution_count": 7,
   "metadata": {},
   "outputs": [
    {
     "data": {
      "text/html": [
       "<div>\n",
       "<style scoped>\n",
       "    .dataframe tbody tr th:only-of-type {\n",
       "        vertical-align: middle;\n",
       "    }\n",
       "\n",
       "    .dataframe tbody tr th {\n",
       "        vertical-align: top;\n",
       "    }\n",
       "\n",
       "    .dataframe thead th {\n",
       "        text-align: right;\n",
       "    }\n",
       "</style>\n",
       "<table border=\"1\" class=\"dataframe\">\n",
       "  <thead>\n",
       "    <tr style=\"text-align: right;\">\n",
       "      <th></th>\n",
       "      <th>CLUSTER</th>\n",
       "      <th>SUB-CLUSTER</th>\n",
       "    </tr>\n",
       "    <tr>\n",
       "      <th>NAME</th>\n",
       "      <th></th>\n",
       "      <th></th>\n",
       "    </tr>\n",
       "  </thead>\n",
       "  <tbody>\n",
       "    <tr>\n",
       "      <th>Bipolar1_CCCACAAGACTA</th>\n",
       "      <td>BC5D</td>\n",
       "      <td>BC5D</td>\n",
       "    </tr>\n",
       "    <tr>\n",
       "      <th>Bipolar1_TCGCCTCGTAAG</th>\n",
       "      <td>Doublets/Contaminants</td>\n",
       "      <td>Doublets/Contaminants</td>\n",
       "    </tr>\n",
       "    <tr>\n",
       "      <th>Bipolar1_CAAAGCATTTGC</th>\n",
       "      <td>BC6</td>\n",
       "      <td>BC6</td>\n",
       "    </tr>\n",
       "    <tr>\n",
       "      <th>Bipolar1_CTTTTGATTGAC</th>\n",
       "      <td>BC7 (Cone Bipolar cell 7)</td>\n",
       "      <td>BC7 (Cone Bipolar cell 7)</td>\n",
       "    </tr>\n",
       "    <tr>\n",
       "      <th>Bipolar1_GCTCCAATGACA</th>\n",
       "      <td>RBC (Rod Bipolar cell)</td>\n",
       "      <td>RBC (Rod Bipolar cell)</td>\n",
       "    </tr>\n",
       "  </tbody>\n",
       "</table>\n",
       "</div>"
      ],
      "text/plain": [
       "                                         CLUSTER                SUB-CLUSTER\n",
       "NAME                                                                       \n",
       "Bipolar1_CCCACAAGACTA                       BC5D                       BC5D\n",
       "Bipolar1_TCGCCTCGTAAG      Doublets/Contaminants      Doublets/Contaminants\n",
       "Bipolar1_CAAAGCATTTGC                        BC6                        BC6\n",
       "Bipolar1_CTTTTGATTGAC  BC7 (Cone Bipolar cell 7)  BC7 (Cone Bipolar cell 7)\n",
       "Bipolar1_GCTCCAATGACA     RBC (Rod Bipolar cell)     RBC (Rod Bipolar cell)"
      ]
     },
     "execution_count": 7,
     "metadata": {},
     "output_type": "execute_result"
    }
   ],
   "source": [
    "metadata = pd.read_table(path.join(data_path, \"clust_retinal_bipolar.txt\"), index_col=0)\n",
    "metadata.head()"
   ]
  },
  {
   "cell_type": "code",
   "execution_count": 8,
   "metadata": {},
   "outputs": [],
   "source": [
    "data = data.loc[:, metadata.index.values]\n",
    "metadata = metadata.loc[data.columns.values]"
   ]
  },
  {
   "cell_type": "code",
   "execution_count": 9,
   "metadata": {},
   "outputs": [
    {
     "data": {
      "text/plain": [
       "((24904, 27499), (27499, 2))"
      ]
     },
     "execution_count": 9,
     "metadata": {},
     "output_type": "execute_result"
    }
   ],
   "source": [
    "data.shape, metadata.shape"
   ]
  },
  {
   "cell_type": "code",
   "execution_count": 10,
   "metadata": {},
   "outputs": [
    {
     "data": {
      "text/plain": [
       "rod bipolar cell              10888\n",
       "type 5 cone bipolar cell       4641\n",
       "Mueller cell                   2945\n",
       "type 1 cone bipolar cell       1883\n",
       "type 7 cone bipolar cell       1759\n",
       "type 6 cone bipolar cell       1702\n",
       "type 3 cone bipolar cell       1352\n",
       "Doublets/Contaminants           669\n",
       "type 2 cone bipolar cell        558\n",
       "type 4 cone bipolar cell        398\n",
       "type 8/9 cone bipolar cell      313\n",
       "amacrine cell                   252\n",
       "retinal rod cell                 91\n",
       "retinal cone cell                48\n",
       "Name: SUB-CLUSTER, dtype: int64"
      ]
     },
     "execution_count": 10,
     "metadata": {},
     "output_type": "execute_result"
    }
   ],
   "source": [
    "cell_types = metadata[\"SUB-CLUSTER\"].astype(object)\n",
    "\n",
    "cell_types[cell_types.str.contains(\"BC1\")] = \"type 1 cone bipolar cell\"\n",
    "cell_types[cell_types.str.contains(\"BC2\")] = \"type 2 cone bipolar cell\"\n",
    "cell_types[cell_types.str.contains(\"BC3\")] = \"type 3 cone bipolar cell\"\n",
    "cell_types[cell_types.str.contains(\"BC4\")] = \"type 4 cone bipolar cell\"\n",
    "cell_types[cell_types.str.contains(\"BC5\")] = \"type 5 cone bipolar cell\"\n",
    "cell_types[cell_types.str.contains(\"BC6\")] = \"type 6 cone bipolar cell\"\n",
    "cell_types[cell_types.str.contains(\"BC7\")] = \"type 7 cone bipolar cell\"\n",
    "\n",
    "# This is a mixture, so go up one level in the ontology\n",
    "cell_types[cell_types == \"BC8/9 (mixture of BC8 and BC9)\"] = \"type 8/9 cone bipolar cell\"\n",
    "\n",
    "# Non-bipolar cells\n",
    "cell_types[cell_types == \"RBC (Rod Bipolar cell)\"] = \"rod bipolar cell\"\n",
    "cell_types[cell_types == \"MG (Mueller Glia)\"] = \"Mueller cell\"\n",
    "cell_types[cell_types == \"AC (Amacrine cell)\"] = \"amacrine cell\"\n",
    "cell_types[cell_types == \"Rod Photoreceptors\"] = \"retinal rod cell\"\n",
    "cell_types[cell_types == \"Cone Photoreceptors\"] = \"retinal cone cell\"\n",
    "\n",
    "cell_types.value_counts()"
   ]
  },
  {
   "cell_type": "code",
   "execution_count": 11,
   "metadata": {},
   "outputs": [],
   "source": [
    "# Remove all the doublet/contaminants\n",
    "contaminant_mask = cell_types == \"Doublets/Contaminants\"\n",
    "metadata = metadata.iloc[~contaminant_mask.values]\n",
    "cell_types = cell_types[~contaminant_mask]\n",
    "data = data.iloc[:, ~contaminant_mask.values]"
   ]
  },
  {
   "cell_type": "code",
   "execution_count": 12,
   "metadata": {},
   "outputs": [
    {
     "data": {
      "text/plain": [
       "(24904, 26830)"
      ]
     },
     "execution_count": 12,
     "metadata": {},
     "output_type": "execute_result"
    }
   ],
   "source": [
    "data.shape"
   ]
  },
  {
   "cell_type": "code",
   "execution_count": 13,
   "metadata": {},
   "outputs": [
    {
     "data": {
      "text/plain": [
       "<24904x26830 sparse matrix of type '<class 'numpy.longlong'>'\n",
       "\twith 23628425 stored elements in Compressed Sparse Row format>"
      ]
     },
     "execution_count": 13,
     "metadata": {},
     "output_type": "execute_result"
    }
   ],
   "source": [
    "x = sp.csr_matrix(data.values)\n",
    "x"
   ]
  },
  {
   "cell_type": "code",
   "execution_count": 14,
   "metadata": {},
   "outputs": [
    {
     "data": {
      "text/plain": [
       "AnnData object with n_obs × n_vars = 26830 × 24904 \n",
       "    obs: 'labels'\n",
       "    uns: 'name', 'year', 'organism', 'tissue'"
      ]
     },
     "execution_count": 14,
     "metadata": {},
     "output_type": "execute_result"
    }
   ],
   "source": [
    "adata = anndata.AnnData(\n",
    "    x.T,\n",
    "    uns={\"name\": \"shekhar_2016\", \"year\": 2016, \"organism\": \"mouse\", \"tissue\": \"retina\"},\n",
    "    var={\"var_names\": data.index.values},\n",
    "    obs={\n",
    "        \"obs_names\": data.columns.values,\n",
    "        \"labels\": cell_types.values,\n",
    "    },\n",
    ")\n",
    "adata"
   ]
  },
  {
   "cell_type": "code",
   "execution_count": 15,
   "metadata": {},
   "outputs": [
    {
     "name": "stderr",
     "output_type": "stream",
     "text": [
      "... storing 'labels' as categorical\n"
     ]
    }
   ],
   "source": [
    "adata.write_h5ad(path.join(\"..\", \"..\", \"data\", \"h5ad\", \"shekhar_2016.h5ad\"))"
   ]
  },
  {
   "cell_type": "code",
   "execution_count": null,
   "metadata": {},
   "outputs": [],
   "source": []
  }
 ],
 "metadata": {
  "kernelspec": {
   "display_name": "Python 3",
   "language": "python",
   "name": "python3"
  },
  "language_info": {
   "codemirror_mode": {
    "name": "ipython",
    "version": 3
   },
   "file_extension": ".py",
   "mimetype": "text/x-python",
   "name": "python",
   "nbconvert_exporter": "python",
   "pygments_lexer": "ipython3",
   "version": "3.7.6"
  }
 },
 "nbformat": 4,
 "nbformat_minor": 4
}
