{
 "cells": [
  {
   "cell_type": "code",
   "execution_count": 1,
   "metadata": {},
   "outputs": [],
   "source": [
    "from os import path\n",
    "from os import listdir\n",
    "\n",
    "import pandas as pd\n",
    "import scipy.sparse as sp\n",
    "import anndata"
   ]
  },
  {
   "cell_type": "markdown",
   "metadata": {},
   "source": [
    "Download files to `data/cao_2019` folder:\n",
    "\n",
    "Main page: https://www.ncbi.nlm.nih.gov/geo/query/acc.cgi?acc=GSE119945\n",
    "\n",
    "- ftp://ftp.ncbi.nlm.nih.gov/geo/series/GSE119nnn/GSE119945/suppl/GSE119945_gene_count.txt.gz\n",
    "- ftp://ftp.ncbi.nlm.nih.gov/geo/series/GSE119nnn/GSE119945/suppl/GSE119945_cell_annotate.csv.gz\n",
    "- ftp://ftp.ncbi.nlm.nih.gov/geo/series/GSE119nnn/GSE119945/suppl/GSE119945_gene_annotate.csv.gz"
   ]
  },
  {
   "cell_type": "code",
   "execution_count": 2,
   "metadata": {},
   "outputs": [],
   "source": [
    "data_path = path.join(\"..\", \"..\", \"data\", \"cao_2019\")"
   ]
  },
  {
   "cell_type": "code",
   "execution_count": 3,
   "metadata": {},
   "outputs": [
    {
     "data": {
      "text/plain": [
       "['GSE119945_gene_count.txt.gz',\n",
       " 'GSE119945_cell_annotate.csv.gz',\n",
       " 'GSE119945_gene_annotate.csv.gz']"
      ]
     },
     "execution_count": 3,
     "metadata": {},
     "output_type": "execute_result"
    }
   ],
   "source": [
    "listdir(data_path)"
   ]
  },
  {
   "cell_type": "code",
   "execution_count": 4,
   "metadata": {},
   "outputs": [
    {
     "name": "stdout",
     "output_type": "stream",
     "text": [
      "CPU times: user 1h 20min 27s, sys: 1min 28s, total: 1h 21min 55s\n",
      "Wall time: 1h 21min 56s\n"
     ]
    }
   ],
   "source": [
    "%time adata = anndata.read_mtx(path.join(data_path, \"GSE119945_gene_count.txt.gz\"))"
   ]
  },
  {
   "cell_type": "code",
   "execution_count": 5,
   "metadata": {},
   "outputs": [
    {
     "data": {
      "text/plain": [
       "AnnData object with n_obs × n_vars = 2058652 × 26183 "
      ]
     },
     "execution_count": 5,
     "metadata": {},
     "output_type": "execute_result"
    }
   ],
   "source": [
    "adata = adata.T\n",
    "adata"
   ]
  },
  {
   "cell_type": "code",
   "execution_count": 6,
   "metadata": {},
   "outputs": [
    {
     "name": "stdout",
     "output_type": "stream",
     "text": [
      "CPU times: user 8.26 s, sys: 512 ms, total: 8.77 s\n",
      "Wall time: 8.77 s\n"
     ]
    }
   ],
   "source": [
    "%time cell_annotations = pd.read_csv(path.join(data_path, \"GSE119945_cell_annotate.csv.gz\"))"
   ]
  },
  {
   "cell_type": "code",
   "execution_count": 7,
   "metadata": {},
   "outputs": [
    {
     "data": {
      "text/html": [
       "<div>\n",
       "<style scoped>\n",
       "    .dataframe tbody tr th:only-of-type {\n",
       "        vertical-align: middle;\n",
       "    }\n",
       "\n",
       "    .dataframe tbody tr th {\n",
       "        vertical-align: top;\n",
       "    }\n",
       "\n",
       "    .dataframe thead th {\n",
       "        text-align: right;\n",
       "    }\n",
       "</style>\n",
       "<table border=\"1\" class=\"dataframe\">\n",
       "  <thead>\n",
       "    <tr style=\"text-align: right;\">\n",
       "      <th></th>\n",
       "      <th>id</th>\n",
       "      <th>sex</th>\n",
       "      <th>day</th>\n",
       "      <th>Total_mRNAs</th>\n",
       "      <th>tsne_1</th>\n",
       "      <th>tsne_2</th>\n",
       "      <th>Main_Cluster</th>\n",
       "      <th>sub_tsne_1</th>\n",
       "      <th>sub_tsne_2</th>\n",
       "      <th>Sub_Cluster</th>\n",
       "      <th>db_score</th>\n",
       "      <th>detected_doublet</th>\n",
       "      <th>potential_doublet_cluster</th>\n",
       "    </tr>\n",
       "    <tr>\n",
       "      <th>sample</th>\n",
       "      <th></th>\n",
       "      <th></th>\n",
       "      <th></th>\n",
       "      <th></th>\n",
       "      <th></th>\n",
       "      <th></th>\n",
       "      <th></th>\n",
       "      <th></th>\n",
       "      <th></th>\n",
       "      <th></th>\n",
       "      <th></th>\n",
       "      <th></th>\n",
       "      <th></th>\n",
       "    </tr>\n",
       "  </thead>\n",
       "  <tbody>\n",
       "    <tr>\n",
       "      <th>sci3-me-001.GTCGGAGTTTGAGGTAGAA</th>\n",
       "      <td>38</td>\n",
       "      <td>F</td>\n",
       "      <td>13.5</td>\n",
       "      <td>335.0</td>\n",
       "      <td>2.502835</td>\n",
       "      <td>2.589219</td>\n",
       "      <td>5.0</td>\n",
       "      <td>0.00000</td>\n",
       "      <td>0.000000</td>\n",
       "      <td>unknown</td>\n",
       "      <td>0.013367</td>\n",
       "      <td>False</td>\n",
       "      <td>NaN</td>\n",
       "    </tr>\n",
       "    <tr>\n",
       "      <th>sci3-me-001.ATTAGTCTGTGTATAATACG</th>\n",
       "      <td>9</td>\n",
       "      <td>M</td>\n",
       "      <td>11.5</td>\n",
       "      <td>1989.0</td>\n",
       "      <td>19.352971</td>\n",
       "      <td>-5.523709</td>\n",
       "      <td>20.0</td>\n",
       "      <td>4.01933</td>\n",
       "      <td>18.306513</td>\n",
       "      <td>1</td>\n",
       "      <td>0.004160</td>\n",
       "      <td>False</td>\n",
       "      <td>False</td>\n",
       "    </tr>\n",
       "    <tr>\n",
       "      <th>sci3-me-001.GAGGAACTTAATACCATCC</th>\n",
       "      <td>26</td>\n",
       "      <td>F</td>\n",
       "      <td>10.5</td>\n",
       "      <td>393.0</td>\n",
       "      <td>-15.372493</td>\n",
       "      <td>-5.759600</td>\n",
       "      <td>21.0</td>\n",
       "      <td>0.00000</td>\n",
       "      <td>0.000000</td>\n",
       "      <td>unknown</td>\n",
       "      <td>0.002524</td>\n",
       "      <td>False</td>\n",
       "      <td>NaN</td>\n",
       "    </tr>\n",
       "    <tr>\n",
       "      <th>sci3-me-001.TTCGCGGATACTCTCTCAA</th>\n",
       "      <td>16</td>\n",
       "      <td>F</td>\n",
       "      <td>13.5</td>\n",
       "      <td>227.0</td>\n",
       "      <td>-0.750546</td>\n",
       "      <td>1.439024</td>\n",
       "      <td>17.0</td>\n",
       "      <td>0.00000</td>\n",
       "      <td>0.000000</td>\n",
       "      <td>unknown</td>\n",
       "      <td>0.006938</td>\n",
       "      <td>False</td>\n",
       "      <td>NaN</td>\n",
       "    </tr>\n",
       "    <tr>\n",
       "      <th>sci3-me-001.ACTGGTTATTTGCGCCATCT</th>\n",
       "      <td>33</td>\n",
       "      <td>M</td>\n",
       "      <td>12.5</td>\n",
       "      <td>241.0</td>\n",
       "      <td>2.402283</td>\n",
       "      <td>12.564681</td>\n",
       "      <td>6.0</td>\n",
       "      <td>0.00000</td>\n",
       "      <td>0.000000</td>\n",
       "      <td>unknown</td>\n",
       "      <td>0.002918</td>\n",
       "      <td>False</td>\n",
       "      <td>NaN</td>\n",
       "    </tr>\n",
       "  </tbody>\n",
       "</table>\n",
       "</div>"
      ],
      "text/plain": [
       "                                  id sex   day  Total_mRNAs     tsne_1  \\\n",
       "sample                                                                   \n",
       "sci3-me-001.GTCGGAGTTTGAGGTAGAA   38   F  13.5        335.0   2.502835   \n",
       "sci3-me-001.ATTAGTCTGTGTATAATACG   9   M  11.5       1989.0  19.352971   \n",
       "sci3-me-001.GAGGAACTTAATACCATCC   26   F  10.5        393.0 -15.372493   \n",
       "sci3-me-001.TTCGCGGATACTCTCTCAA   16   F  13.5        227.0  -0.750546   \n",
       "sci3-me-001.ACTGGTTATTTGCGCCATCT  33   M  12.5        241.0   2.402283   \n",
       "\n",
       "                                     tsne_2  Main_Cluster  sub_tsne_1  \\\n",
       "sample                                                                  \n",
       "sci3-me-001.GTCGGAGTTTGAGGTAGAA    2.589219           5.0     0.00000   \n",
       "sci3-me-001.ATTAGTCTGTGTATAATACG  -5.523709          20.0     4.01933   \n",
       "sci3-me-001.GAGGAACTTAATACCATCC   -5.759600          21.0     0.00000   \n",
       "sci3-me-001.TTCGCGGATACTCTCTCAA    1.439024          17.0     0.00000   \n",
       "sci3-me-001.ACTGGTTATTTGCGCCATCT  12.564681           6.0     0.00000   \n",
       "\n",
       "                                  sub_tsne_2 Sub_Cluster  db_score  \\\n",
       "sample                                                               \n",
       "sci3-me-001.GTCGGAGTTTGAGGTAGAA     0.000000     unknown  0.013367   \n",
       "sci3-me-001.ATTAGTCTGTGTATAATACG   18.306513           1  0.004160   \n",
       "sci3-me-001.GAGGAACTTAATACCATCC     0.000000     unknown  0.002524   \n",
       "sci3-me-001.TTCGCGGATACTCTCTCAA     0.000000     unknown  0.006938   \n",
       "sci3-me-001.ACTGGTTATTTGCGCCATCT    0.000000     unknown  0.002918   \n",
       "\n",
       "                                 detected_doublet potential_doublet_cluster  \n",
       "sample                                                                       \n",
       "sci3-me-001.GTCGGAGTTTGAGGTAGAA             False                       NaN  \n",
       "sci3-me-001.ATTAGTCTGTGTATAATACG            False                     False  \n",
       "sci3-me-001.GAGGAACTTAATACCATCC             False                       NaN  \n",
       "sci3-me-001.TTCGCGGATACTCTCTCAA             False                       NaN  \n",
       "sci3-me-001.ACTGGTTATTTGCGCCATCT            False                       NaN  "
      ]
     },
     "execution_count": 7,
     "metadata": {},
     "output_type": "execute_result"
    }
   ],
   "source": [
    "adata.obs = cell_annotations.set_index(\"sample\")\n",
    "adata.obs.head()"
   ]
  },
  {
   "cell_type": "code",
   "execution_count": 8,
   "metadata": {},
   "outputs": [
    {
     "name": "stdout",
     "output_type": "stream",
     "text": [
      "CPU times: user 72 ms, sys: 0 ns, total: 72 ms\n",
      "Wall time: 72.7 ms\n"
     ]
    }
   ],
   "source": [
    "%time gene_annotations = pd.read_csv(path.join(data_path, \"GSE119945_gene_annotate.csv.gz\"))"
   ]
  },
  {
   "cell_type": "code",
   "execution_count": 9,
   "metadata": {},
   "outputs": [
    {
     "data": {
      "text/html": [
       "<div>\n",
       "<style scoped>\n",
       "    .dataframe tbody tr th:only-of-type {\n",
       "        vertical-align: middle;\n",
       "    }\n",
       "\n",
       "    .dataframe tbody tr th {\n",
       "        vertical-align: top;\n",
       "    }\n",
       "\n",
       "    .dataframe thead th {\n",
       "        text-align: right;\n",
       "    }\n",
       "</style>\n",
       "<table border=\"1\" class=\"dataframe\">\n",
       "  <thead>\n",
       "    <tr style=\"text-align: right;\">\n",
       "      <th></th>\n",
       "      <th>gene_id</th>\n",
       "      <th>gene_type</th>\n",
       "      <th>gene_short_name</th>\n",
       "    </tr>\n",
       "  </thead>\n",
       "  <tbody>\n",
       "    <tr>\n",
       "      <th>0</th>\n",
       "      <td>ENSMUSG00000051951.5</td>\n",
       "      <td>protein_coding</td>\n",
       "      <td>Xkr4</td>\n",
       "    </tr>\n",
       "    <tr>\n",
       "      <th>1</th>\n",
       "      <td>ENSMUSG00000103377.1</td>\n",
       "      <td>TEC</td>\n",
       "      <td>Gm37180</td>\n",
       "    </tr>\n",
       "    <tr>\n",
       "      <th>2</th>\n",
       "      <td>ENSMUSG00000104017.1</td>\n",
       "      <td>TEC</td>\n",
       "      <td>Gm37363</td>\n",
       "    </tr>\n",
       "    <tr>\n",
       "      <th>3</th>\n",
       "      <td>ENSMUSG00000103025.1</td>\n",
       "      <td>TEC</td>\n",
       "      <td>Gm37686</td>\n",
       "    </tr>\n",
       "    <tr>\n",
       "      <th>4</th>\n",
       "      <td>ENSMUSG00000089699.1</td>\n",
       "      <td>antisense</td>\n",
       "      <td>Gm1992</td>\n",
       "    </tr>\n",
       "  </tbody>\n",
       "</table>\n",
       "</div>"
      ],
      "text/plain": [
       "                gene_id       gene_type gene_short_name\n",
       "0  ENSMUSG00000051951.5  protein_coding            Xkr4\n",
       "1  ENSMUSG00000103377.1             TEC         Gm37180\n",
       "2  ENSMUSG00000104017.1             TEC         Gm37363\n",
       "3  ENSMUSG00000103025.1             TEC         Gm37686\n",
       "4  ENSMUSG00000089699.1       antisense          Gm1992"
      ]
     },
     "execution_count": 9,
     "metadata": {},
     "output_type": "execute_result"
    }
   ],
   "source": [
    "gene_annotations.head()"
   ]
  },
  {
   "cell_type": "code",
   "execution_count": 10,
   "metadata": {},
   "outputs": [
    {
     "data": {
      "text/html": [
       "<div>\n",
       "<style scoped>\n",
       "    .dataframe tbody tr th:only-of-type {\n",
       "        vertical-align: middle;\n",
       "    }\n",
       "\n",
       "    .dataframe tbody tr th {\n",
       "        vertical-align: top;\n",
       "    }\n",
       "\n",
       "    .dataframe thead th {\n",
       "        text-align: right;\n",
       "    }\n",
       "</style>\n",
       "<table border=\"1\" class=\"dataframe\">\n",
       "  <thead>\n",
       "    <tr style=\"text-align: right;\">\n",
       "      <th></th>\n",
       "      <th>gene_id</th>\n",
       "      <th>gene_type</th>\n",
       "    </tr>\n",
       "    <tr>\n",
       "      <th>gene_short_name</th>\n",
       "      <th></th>\n",
       "      <th></th>\n",
       "    </tr>\n",
       "  </thead>\n",
       "  <tbody>\n",
       "    <tr>\n",
       "      <th>Xkr4</th>\n",
       "      <td>ENSMUSG00000051951.5</td>\n",
       "      <td>protein_coding</td>\n",
       "    </tr>\n",
       "    <tr>\n",
       "      <th>Gm37180</th>\n",
       "      <td>ENSMUSG00000103377.1</td>\n",
       "      <td>TEC</td>\n",
       "    </tr>\n",
       "    <tr>\n",
       "      <th>Gm37363</th>\n",
       "      <td>ENSMUSG00000104017.1</td>\n",
       "      <td>TEC</td>\n",
       "    </tr>\n",
       "    <tr>\n",
       "      <th>Gm37686</th>\n",
       "      <td>ENSMUSG00000103025.1</td>\n",
       "      <td>TEC</td>\n",
       "    </tr>\n",
       "    <tr>\n",
       "      <th>Gm1992</th>\n",
       "      <td>ENSMUSG00000089699.1</td>\n",
       "      <td>antisense</td>\n",
       "    </tr>\n",
       "  </tbody>\n",
       "</table>\n",
       "</div>"
      ],
      "text/plain": [
       "                              gene_id       gene_type\n",
       "gene_short_name                                      \n",
       "Xkr4             ENSMUSG00000051951.5  protein_coding\n",
       "Gm37180          ENSMUSG00000103377.1             TEC\n",
       "Gm37363          ENSMUSG00000104017.1             TEC\n",
       "Gm37686          ENSMUSG00000103025.1             TEC\n",
       "Gm1992           ENSMUSG00000089699.1       antisense"
      ]
     },
     "execution_count": 10,
     "metadata": {},
     "output_type": "execute_result"
    }
   ],
   "source": [
    "adata.var = gene_annotations.set_index(\"gene_short_name\")\n",
    "adata.var.head()"
   ]
  },
  {
   "cell_type": "code",
   "execution_count": 11,
   "metadata": {},
   "outputs": [
    {
     "data": {
      "text/plain": [
       "AnnData object with n_obs × n_vars = 2058652 × 26183 \n",
       "    obs: 'id', 'sex', 'day', 'Total_mRNAs', 'tsne_1', 'tsne_2', 'Main_Cluster', 'sub_tsne_1', 'sub_tsne_2', 'Sub_Cluster', 'db_score', 'detected_doublet', 'potential_doublet_cluster'\n",
       "    var: 'gene_id', 'gene_type'"
      ]
     },
     "execution_count": 11,
     "metadata": {},
     "output_type": "execute_result"
    }
   ],
   "source": [
    "adata"
   ]
  },
  {
   "cell_type": "code",
   "execution_count": 12,
   "metadata": {},
   "outputs": [],
   "source": [
    "adata.obs = adata.obs.rename(columns={\"Main_Cluster\": \"cluster_id\"})"
   ]
  },
  {
   "cell_type": "code",
   "execution_count": 13,
   "metadata": {},
   "outputs": [],
   "source": [
    "adata.uns[\"name\"] = \"cao_2019\"\n",
    "adata.uns[\"year\"] = 2019\n",
    "adata.uns[\"organism\"] = \"mouse\"\n",
    "adata.uns[\"tissue\"] = \"embryo\""
   ]
  },
  {
   "cell_type": "code",
   "execution_count": 14,
   "metadata": {},
   "outputs": [
    {
     "data": {
      "text/plain": [
       "AnnData object with n_obs × n_vars = 2058652 × 26183 \n",
       "    obs: 'id', 'sex', 'day', 'Total_mRNAs', 'tsne_1', 'tsne_2', 'cluster_id', 'sub_tsne_1', 'sub_tsne_2', 'Sub_Cluster', 'db_score', 'detected_doublet', 'potential_doublet_cluster'\n",
       "    var: 'gene_id', 'gene_type'\n",
       "    uns: 'name', 'year', 'organism', 'tissue'"
      ]
     },
     "execution_count": 14,
     "metadata": {},
     "output_type": "execute_result"
    }
   ],
   "source": [
    "adata"
   ]
  },
  {
   "cell_type": "code",
   "execution_count": 15,
   "metadata": {},
   "outputs": [
    {
     "name": "stderr",
     "output_type": "stream",
     "text": [
      "... storing 'sex' as categorical\n",
      "... storing 'Sub_Cluster' as categorical\n",
      "... storing 'detected_doublet' as categorical\n",
      "... storing 'potential_doublet_cluster' as categorical\n",
      "... storing 'gene_type' as categorical\n"
     ]
    }
   ],
   "source": [
    "adata.write_h5ad(path.join(\"..\", \"..\", \"data\", \"h5ad\", \"cao_2019.h5ad\"))"
   ]
  },
  {
   "cell_type": "code",
   "execution_count": null,
   "metadata": {},
   "outputs": [],
   "source": []
  }
 ],
 "metadata": {
  "kernelspec": {
   "display_name": "Python 3",
   "language": "python",
   "name": "python3"
  },
  "language_info": {
   "codemirror_mode": {
    "name": "ipython",
    "version": 3
   },
   "file_extension": ".py",
   "mimetype": "text/x-python",
   "name": "python",
   "nbconvert_exporter": "python",
   "pygments_lexer": "ipython3",
   "version": "3.7.6"
  }
 },
 "nbformat": 4,
 "nbformat_minor": 4
}
