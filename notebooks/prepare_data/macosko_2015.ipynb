{
 "cells": [
  {
   "cell_type": "code",
   "execution_count": 1,
   "metadata": {},
   "outputs": [],
   "source": [
    "from os import path\n",
    "from os import listdir\n",
    "\n",
    "import pandas as pd\n",
    "import scipy.sparse as sp\n",
    "import anndata"
   ]
  },
  {
   "cell_type": "markdown",
   "metadata": {},
   "source": [
    "Download files to `data/macosko_2015` folder:\n",
    "\n",
    "Main page: https://www.ncbi.nlm.nih.gov/geo/query/acc.cgi?acc=GSE63472\n",
    "\n",
    "- https://ftp.ncbi.nlm.nih.gov/geo/series/GSE63nnn/GSE63472/suppl/GSE63472%5FP14Retina%5Fmerged%5Fdigital%5Fexpression%2Etxt%2Egz\n",
    "- http://mccarrolllab.org/wp-content/uploads/2015/05/retina_clusteridentities.txt"
   ]
  },
  {
   "cell_type": "code",
   "execution_count": 2,
   "metadata": {},
   "outputs": [],
   "source": [
    "data_path = path.join(\"..\", \"..\", \"data\", \"macosko_2015\")"
   ]
  },
  {
   "cell_type": "code",
   "execution_count": 3,
   "metadata": {},
   "outputs": [
    {
     "data": {
      "text/plain": [
       "['retina_clusteridentities.txt',\n",
       " 'GSE63472_P14Retina_merged_digital_expression.txt.gz']"
      ]
     },
     "execution_count": 3,
     "metadata": {},
     "output_type": "execute_result"
    }
   ],
   "source": [
    "listdir(data_path)"
   ]
  },
  {
   "cell_type": "code",
   "execution_count": 4,
   "metadata": {},
   "outputs": [
    {
     "name": "stdout",
     "output_type": "stream",
     "text": [
      "CPU times: user 16min 34s, sys: 30.6 s, total: 17min 5s\n",
      "Wall time: 17min 1s\n"
     ]
    }
   ],
   "source": [
    "%time data = pd.read_table(path.join(data_path, \"GSE63472_P14Retina_merged_digital_expression.txt.gz\"), index_col=0)"
   ]
  },
  {
   "cell_type": "code",
   "execution_count": 5,
   "metadata": {},
   "outputs": [
    {
     "data": {
      "text/html": [
       "<div>\n",
       "<style scoped>\n",
       "    .dataframe tbody tr th:only-of-type {\n",
       "        vertical-align: middle;\n",
       "    }\n",
       "\n",
       "    .dataframe tbody tr th {\n",
       "        vertical-align: top;\n",
       "    }\n",
       "\n",
       "    .dataframe thead th {\n",
       "        text-align: right;\n",
       "    }\n",
       "</style>\n",
       "<table border=\"1\" class=\"dataframe\">\n",
       "  <thead>\n",
       "    <tr style=\"text-align: right;\">\n",
       "      <th></th>\n",
       "      <th>r1_GGCCGCAGTCCG</th>\n",
       "      <th>r1_CTTGTGCGGGAA</th>\n",
       "      <th>r1_GCGCAACTGCTC</th>\n",
       "      <th>r1_GATTGGGAGGCA</th>\n",
       "      <th>r1_CCTCCTAGTTGG</th>\n",
       "      <th>r1_AGTCAAGCCCTC</th>\n",
       "      <th>r1_GTGCCGCCTCTC</th>\n",
       "      <th>r1_CCTGTGACACAC</th>\n",
       "      <th>r1_AATCTCGTTAAT</th>\n",
       "      <th>r1_GATTTCCTCTGA</th>\n",
       "      <th>...</th>\n",
       "      <th>p1_GAGGGGCTCTAA</th>\n",
       "      <th>p1_AGCCAAGGCTCG</th>\n",
       "      <th>p1_TGAGTCGTCTTA</th>\n",
       "      <th>p1_AACGGTCGCTTT</th>\n",
       "      <th>p1_CGAATACGTGTC</th>\n",
       "      <th>p1_TCAAAAGCCGGG</th>\n",
       "      <th>p1_ATTAAGTTCCAA</th>\n",
       "      <th>p1_CTGTCTGAGACC</th>\n",
       "      <th>p1_TAACGCGCTCCT</th>\n",
       "      <th>p1_ATTCTTGTTCTT</th>\n",
       "    </tr>\n",
       "    <tr>\n",
       "      <th>gene</th>\n",
       "      <th></th>\n",
       "      <th></th>\n",
       "      <th></th>\n",
       "      <th></th>\n",
       "      <th></th>\n",
       "      <th></th>\n",
       "      <th></th>\n",
       "      <th></th>\n",
       "      <th></th>\n",
       "      <th></th>\n",
       "      <th></th>\n",
       "      <th></th>\n",
       "      <th></th>\n",
       "      <th></th>\n",
       "      <th></th>\n",
       "      <th></th>\n",
       "      <th></th>\n",
       "      <th></th>\n",
       "      <th></th>\n",
       "      <th></th>\n",
       "      <th></th>\n",
       "    </tr>\n",
       "  </thead>\n",
       "  <tbody>\n",
       "    <tr>\n",
       "      <th>KITL</th>\n",
       "      <td>0</td>\n",
       "      <td>0</td>\n",
       "      <td>1</td>\n",
       "      <td>0</td>\n",
       "      <td>0</td>\n",
       "      <td>0</td>\n",
       "      <td>0</td>\n",
       "      <td>1</td>\n",
       "      <td>0</td>\n",
       "      <td>0</td>\n",
       "      <td>...</td>\n",
       "      <td>0</td>\n",
       "      <td>0</td>\n",
       "      <td>0</td>\n",
       "      <td>0</td>\n",
       "      <td>0</td>\n",
       "      <td>0</td>\n",
       "      <td>0</td>\n",
       "      <td>0</td>\n",
       "      <td>0</td>\n",
       "      <td>0</td>\n",
       "    </tr>\n",
       "    <tr>\n",
       "      <th>TMTC3</th>\n",
       "      <td>3</td>\n",
       "      <td>0</td>\n",
       "      <td>0</td>\n",
       "      <td>0</td>\n",
       "      <td>2</td>\n",
       "      <td>0</td>\n",
       "      <td>1</td>\n",
       "      <td>1</td>\n",
       "      <td>0</td>\n",
       "      <td>0</td>\n",
       "      <td>...</td>\n",
       "      <td>0</td>\n",
       "      <td>0</td>\n",
       "      <td>0</td>\n",
       "      <td>0</td>\n",
       "      <td>0</td>\n",
       "      <td>0</td>\n",
       "      <td>0</td>\n",
       "      <td>0</td>\n",
       "      <td>0</td>\n",
       "      <td>0</td>\n",
       "    </tr>\n",
       "    <tr>\n",
       "      <th>CEP290</th>\n",
       "      <td>1</td>\n",
       "      <td>3</td>\n",
       "      <td>0</td>\n",
       "      <td>2</td>\n",
       "      <td>1</td>\n",
       "      <td>18</td>\n",
       "      <td>10</td>\n",
       "      <td>3</td>\n",
       "      <td>4</td>\n",
       "      <td>3</td>\n",
       "      <td>...</td>\n",
       "      <td>0</td>\n",
       "      <td>0</td>\n",
       "      <td>0</td>\n",
       "      <td>0</td>\n",
       "      <td>0</td>\n",
       "      <td>0</td>\n",
       "      <td>0</td>\n",
       "      <td>0</td>\n",
       "      <td>0</td>\n",
       "      <td>0</td>\n",
       "    </tr>\n",
       "    <tr>\n",
       "      <th>4930430F08RIK</th>\n",
       "      <td>2</td>\n",
       "      <td>1</td>\n",
       "      <td>2</td>\n",
       "      <td>0</td>\n",
       "      <td>1</td>\n",
       "      <td>1</td>\n",
       "      <td>0</td>\n",
       "      <td>1</td>\n",
       "      <td>1</td>\n",
       "      <td>1</td>\n",
       "      <td>...</td>\n",
       "      <td>0</td>\n",
       "      <td>0</td>\n",
       "      <td>0</td>\n",
       "      <td>0</td>\n",
       "      <td>0</td>\n",
       "      <td>0</td>\n",
       "      <td>1</td>\n",
       "      <td>0</td>\n",
       "      <td>0</td>\n",
       "      <td>0</td>\n",
       "    </tr>\n",
       "    <tr>\n",
       "      <th>1700017N19RIK</th>\n",
       "      <td>0</td>\n",
       "      <td>0</td>\n",
       "      <td>0</td>\n",
       "      <td>0</td>\n",
       "      <td>0</td>\n",
       "      <td>0</td>\n",
       "      <td>0</td>\n",
       "      <td>0</td>\n",
       "      <td>0</td>\n",
       "      <td>0</td>\n",
       "      <td>...</td>\n",
       "      <td>0</td>\n",
       "      <td>0</td>\n",
       "      <td>0</td>\n",
       "      <td>0</td>\n",
       "      <td>0</td>\n",
       "      <td>0</td>\n",
       "      <td>0</td>\n",
       "      <td>0</td>\n",
       "      <td>0</td>\n",
       "      <td>0</td>\n",
       "    </tr>\n",
       "  </tbody>\n",
       "</table>\n",
       "<p>5 rows × 49300 columns</p>\n",
       "</div>"
      ],
      "text/plain": [
       "               r1_GGCCGCAGTCCG  r1_CTTGTGCGGGAA  r1_GCGCAACTGCTC  \\\n",
       "gene                                                               \n",
       "KITL                         0                0                1   \n",
       "TMTC3                        3                0                0   \n",
       "CEP290                       1                3                0   \n",
       "4930430F08RIK                2                1                2   \n",
       "1700017N19RIK                0                0                0   \n",
       "\n",
       "               r1_GATTGGGAGGCA  r1_CCTCCTAGTTGG  r1_AGTCAAGCCCTC  \\\n",
       "gene                                                               \n",
       "KITL                         0                0                0   \n",
       "TMTC3                        0                2                0   \n",
       "CEP290                       2                1               18   \n",
       "4930430F08RIK                0                1                1   \n",
       "1700017N19RIK                0                0                0   \n",
       "\n",
       "               r1_GTGCCGCCTCTC  r1_CCTGTGACACAC  r1_AATCTCGTTAAT  \\\n",
       "gene                                                               \n",
       "KITL                         0                1                0   \n",
       "TMTC3                        1                1                0   \n",
       "CEP290                      10                3                4   \n",
       "4930430F08RIK                0                1                1   \n",
       "1700017N19RIK                0                0                0   \n",
       "\n",
       "               r1_GATTTCCTCTGA       ...         p1_GAGGGGCTCTAA  \\\n",
       "gene                                 ...                           \n",
       "KITL                         0       ...                       0   \n",
       "TMTC3                        0       ...                       0   \n",
       "CEP290                       3       ...                       0   \n",
       "4930430F08RIK                1       ...                       0   \n",
       "1700017N19RIK                0       ...                       0   \n",
       "\n",
       "               p1_AGCCAAGGCTCG  p1_TGAGTCGTCTTA  p1_AACGGTCGCTTT  \\\n",
       "gene                                                               \n",
       "KITL                         0                0                0   \n",
       "TMTC3                        0                0                0   \n",
       "CEP290                       0                0                0   \n",
       "4930430F08RIK                0                0                0   \n",
       "1700017N19RIK                0                0                0   \n",
       "\n",
       "               p1_CGAATACGTGTC  p1_TCAAAAGCCGGG  p1_ATTAAGTTCCAA  \\\n",
       "gene                                                               \n",
       "KITL                         0                0                0   \n",
       "TMTC3                        0                0                0   \n",
       "CEP290                       0                0                0   \n",
       "4930430F08RIK                0                0                1   \n",
       "1700017N19RIK                0                0                0   \n",
       "\n",
       "               p1_CTGTCTGAGACC  p1_TAACGCGCTCCT  p1_ATTCTTGTTCTT  \n",
       "gene                                                              \n",
       "KITL                         0                0                0  \n",
       "TMTC3                        0                0                0  \n",
       "CEP290                       0                0                0  \n",
       "4930430F08RIK                0                0                0  \n",
       "1700017N19RIK                0                0                0  \n",
       "\n",
       "[5 rows x 49300 columns]"
      ]
     },
     "execution_count": 5,
     "metadata": {},
     "output_type": "execute_result"
    }
   ],
   "source": [
    "data.head()"
   ]
  },
  {
   "cell_type": "code",
   "execution_count": 6,
   "metadata": {},
   "outputs": [
    {
     "data": {
      "text/plain": [
       "(24658, 49300)"
      ]
     },
     "execution_count": 6,
     "metadata": {},
     "output_type": "execute_result"
    }
   ],
   "source": [
    "data.shape"
   ]
  },
  {
   "cell_type": "code",
   "execution_count": 7,
   "metadata": {},
   "outputs": [
    {
     "data": {
      "text/plain": [
       "0\n",
       "r1_GGCCGCAGTCCG     2\n",
       "r1_CTTGTGCGGGAA     2\n",
       "r1_GCGCAACTGCTC     2\n",
       "r1_GATTGGGAGGCA     2\n",
       "r1_GTGCCGCCTCTC    25\n",
       "Name: 1, dtype: int64"
      ]
     },
     "execution_count": 7,
     "metadata": {},
     "output_type": "execute_result"
    }
   ],
   "source": [
    "cluster_ids = pd.read_table(path.join(data_path, \"retina_clusteridentities.txt\"), header=None, index_col=0, squeeze=True)\n",
    "cluster_ids.head()"
   ]
  },
  {
   "cell_type": "code",
   "execution_count": 8,
   "metadata": {},
   "outputs": [],
   "source": [
    "data = data.loc[:, cluster_ids.index]"
   ]
  },
  {
   "cell_type": "code",
   "execution_count": 9,
   "metadata": {},
   "outputs": [
    {
     "data": {
      "text/plain": [
       "((24658, 44808), (44808,))"
      ]
     },
     "execution_count": 9,
     "metadata": {},
     "output_type": "execute_result"
    }
   ],
   "source": [
    "data.shape, cluster_ids.shape"
   ]
  },
  {
   "cell_type": "code",
   "execution_count": 10,
   "metadata": {},
   "outputs": [
    {
     "data": {
      "text/plain": [
       "Rods                      29400\n",
       "Bipolar cells              6285\n",
       "Amacrine cells             4426\n",
       "Cones                      1868\n",
       "Muller glia                1624\n",
       "Retinal ganglion cells      432\n",
       "Vascular endothelium        252\n",
       "Horizontal cells            252\n",
       "Fibroblasts                  85\n",
       "Microglia                    67\n",
       "Pericytes                    63\n",
       "Astrocytes                   54\n",
       "Name: 1, dtype: int64"
      ]
     },
     "execution_count": 10,
     "metadata": {},
     "output_type": "execute_result"
    }
   ],
   "source": [
    "cell_types = cluster_ids.astype(object)\n",
    "\n",
    "cell_types.loc[cell_types == 1] = \"Horizontal cells\"\n",
    "cell_types.loc[cell_types == 2] = \"Retinal ganglion cells\"\n",
    "cell_types.loc[cell_types.isin(range(3, 24))] = \"Amacrine cells\"\n",
    "cell_types.loc[cell_types == 24] = \"Rods\"\n",
    "cell_types.loc[cell_types == 25] = \"Cones\"\n",
    "cell_types.loc[cell_types.isin(range(26, 34))] = \"Bipolar cells\"\n",
    "cell_types.loc[cell_types == 34] = \"Muller glia\"\n",
    "cell_types.loc[cell_types == 35] = \"Astrocytes\"\n",
    "cell_types.loc[cell_types == 36] = \"Fibroblasts\"\n",
    "cell_types.loc[cell_types == 37] = \"Vascular endothelium\"\n",
    "cell_types.loc[cell_types == 38] = \"Pericytes\"\n",
    "cell_types.loc[cell_types == 39] = \"Microglia\"\n",
    "\n",
    "cell_types.value_counts()"
   ]
  },
  {
   "cell_type": "code",
   "execution_count": 11,
   "metadata": {},
   "outputs": [
    {
     "data": {
      "text/plain": [
       "<24658x44808 sparse matrix of type '<class 'numpy.longlong'>'\n",
       "\twith 32805477 stored elements in Compressed Sparse Row format>"
      ]
     },
     "execution_count": 11,
     "metadata": {},
     "output_type": "execute_result"
    }
   ],
   "source": [
    "x = sp.csr_matrix(data.values)\n",
    "x"
   ]
  },
  {
   "cell_type": "code",
   "execution_count": 12,
   "metadata": {},
   "outputs": [
    {
     "data": {
      "text/plain": [
       "AnnData object with n_obs × n_vars = 44808 × 24658 \n",
       "    obs: 'cluster_ids', 'labels'\n",
       "    uns: 'name', 'year', 'organism', 'tissue'"
      ]
     },
     "execution_count": 12,
     "metadata": {},
     "output_type": "execute_result"
    }
   ],
   "source": [
    "adata = anndata.AnnData(\n",
    "    x.T,\n",
    "    uns={\"name\": \"macosko_2015\", \"year\": 2015, \"organism\": \"mouse\", \"tissue\": \"retina\"},\n",
    "    var={\"var_names\": data.index.values},\n",
    "    obs={\n",
    "        \"obs_names\": data.columns.values,\n",
    "        \"cluster_ids\": cluster_ids.values,\n",
    "        \"labels\": cell_types.values,\n",
    "    },\n",
    ")\n",
    "adata"
   ]
  },
  {
   "cell_type": "code",
   "execution_count": 13,
   "metadata": {},
   "outputs": [
    {
     "name": "stderr",
     "output_type": "stream",
     "text": [
      "... storing 'labels' as categorical\n"
     ]
    }
   ],
   "source": [
    "adata.write_h5ad(path.join(\"..\", \"..\", \"data\", \"h5ad\", \"macosko_2015.h5ad\"))"
   ]
  },
  {
   "cell_type": "code",
   "execution_count": null,
   "metadata": {},
   "outputs": [],
   "source": []
  }
 ],
 "metadata": {
  "kernelspec": {
   "display_name": "Python 3",
   "language": "python",
   "name": "python3"
  },
  "language_info": {
   "codemirror_mode": {
    "name": "ipython",
    "version": 3
   },
   "file_extension": ".py",
   "mimetype": "text/x-python",
   "name": "python",
   "nbconvert_exporter": "python",
   "pygments_lexer": "ipython3",
   "version": "3.7.6"
  }
 },
 "nbformat": 4,
 "nbformat_minor": 4
}
